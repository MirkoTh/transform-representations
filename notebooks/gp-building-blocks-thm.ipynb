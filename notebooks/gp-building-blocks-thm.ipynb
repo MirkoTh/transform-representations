{
 "cells": [
  {
   "cell_type": "code",
   "execution_count": null,
   "id": "e293a5de",
   "metadata": {},
   "outputs": [],
   "source": [
    "import numpy as np\n",
    "import pandas as pd\n",
    "import matplotlib.pyplot as plt\n",
    "import seaborn as sns\n",
    "\n",
    "from functools import partial"
   ]
  },
  {
   "cell_type": "code",
   "execution_count": null,
   "id": "22c65227",
   "metadata": {},
   "outputs": [],
   "source": [
    "plt.style.use(\"presentation.mplstyle\")"
   ]
  },
  {
   "cell_type": "code",
   "execution_count": null,
   "id": "0c6b585c",
   "metadata": {},
   "outputs": [],
   "source": [
    "def kernel_rbf(X1: np.array, X2: np.array, sigma: float, length_scale: float) -> np.array:\n",
    "    \"\"\"rbf kernel implementation ref. Schulz et al. (2018) jmp tutorial paper\"\"\"\n",
    "    dist_eucl = np.sqrt(np.sum(np.abs(X1 - X2)**2))\n",
    "    return sigma**2 * np.exp(-(dist_eucl / 2*length_scale**2))"
   ]
  },
  {
   "cell_type": "code",
   "execution_count": null,
   "id": "1c450d78",
   "metadata": {},
   "outputs": [],
   "source": [
    "X_train = pd.merge(\n",
    "    pd.DataFrame({\n",
    "        \"x1\": np.arange(0, 12)\n",
    "    }),\n",
    "    pd.DataFrame({\n",
    "        \"x2\": np.arange(0, 12)\n",
    "    }),\n",
    "    how=\"cross\"\n",
    ")"
   ]
  },
  {
   "cell_type": "code",
   "execution_count": null,
   "id": "95ceb1fc",
   "metadata": {},
   "outputs": [],
   "source": [
    "l_X_train_1 = list(np.repeat(X_train.to_numpy(), X_train.shape[0], 0))\n",
    "l_X_train_2 = list(np.tile(X_train.to_numpy().T, X_train.shape[0]).T)"
   ]
  },
  {
   "cell_type": "code",
   "execution_count": null,
   "id": "a11417e9",
   "metadata": {},
   "outputs": [],
   "source": [
    "kernel_rbf_partial = partial(kernel_rbf, sigma=1, length_scale=0.5)\n",
    "l_similarities = list(map(kernel_rbf_partial, l_X_train_1, l_X_train_2))"
   ]
  },
  {
   "cell_type": "code",
   "execution_count": null,
   "id": "12349530",
   "metadata": {},
   "outputs": [],
   "source": [
    "df_similarities = pd.DataFrame(np.reshape(np.array(l_similarities), (X_train.shape[0], X_train.shape[0])))"
   ]
  },
  {
   "cell_type": "code",
   "execution_count": null,
   "id": "0760046b",
   "metadata": {
    "scrolled": false
   },
   "outputs": [],
   "source": [
    "f, ax = plt.subplots(1, 1, figsize=(12, 10))\n",
    "sns.heatmap(\n",
    "    df_similarities, cmap=\"viridis\", ax=ax, \n",
    "    yticklabels=False, xticklabels=False, \n",
    "    cbar_kws={'label': \"Similarity Matrix\"}\n",
    ")\n",
    "_ = plt.title(\"Similarity Matrix\")"
   ]
  },
  {
   "cell_type": "code",
   "execution_count": null,
   "id": "8b1655eb",
   "metadata": {
    "scrolled": true
   },
   "outputs": [],
   "source": [
    "np.random.seed(123)\n",
    "X_train[\"y\"] = np.random.multivariate_normal(np.repeat(0, df_similarities.shape[0]), df_similarities.to_numpy())"
   ]
  },
  {
   "cell_type": "code",
   "execution_count": null,
   "id": "8f508a1c",
   "metadata": {},
   "outputs": [],
   "source": [
    "df_heatmap = X_train.pivot(index=\"x1\", columns=\"x2\", values=\"y\")"
   ]
  },
  {
   "cell_type": "code",
   "execution_count": null,
   "id": "c11b49a8",
   "metadata": {},
   "outputs": [],
   "source": [
    "f, ax = plt.subplots(1, 1, figsize=(12, 10))\n",
    "sns.heatmap(\n",
    "    df_heatmap, cmap=\"viridis\", ax=ax, annot=True, linewidths=1,\n",
    "    yticklabels=False, xticklabels=False, \n",
    "    cbar_kws={\"label\": \"y\"}\n",
    ")\n",
    "_ = plt.title(\"GP Prior\")"
   ]
  },
  {
   "cell_type": "code",
   "execution_count": null,
   "id": "997780f2",
   "metadata": {},
   "outputs": [],
   "source": []
  }
 ],
 "metadata": {
  "kernelspec": {
   "display_name": "Python 3 (ipykernel)",
   "language": "python",
   "name": "python3"
  },
  "language_info": {
   "codemirror_mode": {
    "name": "ipython",
    "version": 3
   },
   "file_extension": ".py",
   "mimetype": "text/x-python",
   "name": "python",
   "nbconvert_exporter": "python",
   "pygments_lexer": "ipython3",
   "version": "3.9.7"
  }
 },
 "nbformat": 4,
 "nbformat_minor": 5
}
