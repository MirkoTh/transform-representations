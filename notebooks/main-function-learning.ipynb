{
 "cells": [
  {
   "cell_type": "code",
   "execution_count": null,
   "id": "2c892410",
   "metadata": {
    "ExecuteTime": {
     "end_time": "2021-11-14T19:17:14.389008Z",
     "start_time": "2021-11-14T19:17:13.088259Z"
    }
   },
   "outputs": [],
   "source": [
    "from functools import reduce, partial\n",
    "from itertools import repeat\n",
    "import sys\n",
    "import multiprocessing\n",
    "import pickle\n",
    "\n",
    "import numpy as np\n",
    "import pandas as pd\n",
    "import matplotlib as mpl\n",
    "import matplotlib.pyplot as plt\n",
    "import seaborn as sns\n",
    "\n",
    "from sklearn.gaussian_process import GaussianProcessRegressor\n",
    "from sklearn.gaussian_process.kernels import RBF\n",
    "from tqdm.notebook import tqdm\n",
    "from mpl_toolkits.axes_grid1.inset_locator import inset_axes\n",
    "\n",
    "sys.path.append(\"..\")"
   ]
  },
  {
   "cell_type": "code",
   "execution_count": null,
   "id": "b2c0097d",
   "metadata": {
    "ExecuteTime": {
     "end_time": "2021-11-14T19:17:14.466045Z",
     "start_time": "2021-11-14T19:17:14.392951Z"
    }
   },
   "outputs": [],
   "source": [
    "# home-grown modules\n",
    "import py_utils.utils as utils\n",
    "import py_utils.plotting as plot_utils"
   ]
  },
  {
   "cell_type": "code",
   "execution_count": null,
   "id": "a97694c9",
   "metadata": {
    "ExecuteTime": {
     "end_time": "2021-11-14T19:17:14.575645Z",
     "start_time": "2021-11-14T19:17:14.471060Z"
    }
   },
   "outputs": [],
   "source": [
    "%load_ext autoreload\n",
    "%autoreload 2"
   ]
  },
  {
   "cell_type": "code",
   "execution_count": null,
   "id": "19fa4636",
   "metadata": {
    "ExecuteTime": {
     "end_time": "2021-11-14T19:17:14.670720Z",
     "start_time": "2021-11-14T19:17:14.582628Z"
    }
   },
   "outputs": [],
   "source": [
    "plt.style.use(\"seaborn-whitegrid\")\n",
    "sns.set_style(\"whitegrid\")"
   ]
  },
  {
   "cell_type": "code",
   "execution_count": null,
   "id": "29f4f82d",
   "metadata": {
    "ExecuteTime": {
     "end_time": "2021-11-14T19:17:14.749941Z",
     "start_time": "2021-11-14T19:17:14.672715Z"
    }
   },
   "outputs": [],
   "source": [
    "plt.style.use(\"presentation.mplstyle\")"
   ]
  },
  {
   "cell_type": "code",
   "execution_count": null,
   "id": "20e301dc",
   "metadata": {
    "ExecuteTime": {
     "end_time": "2021-11-14T19:17:14.842405Z",
     "start_time": "2021-11-14T19:17:14.750513Z"
    }
   },
   "outputs": [],
   "source": [
    "dict_variables = dict({\n",
    "    \"condition\" : [\"smooth\", \"rough\"],\n",
    "    \"prior_sd\" : [.1, 1],\n",
    "    \"sampling\" : [\"metropolis-hastings\", \"improvement\"],\n",
    "    \"constrain_space\" : [True, False],\n",
    "    \"space_edge_min\" : [0],\n",
    "    \"space_edge_max\" : [12],\n",
    "    \"n_features\" : [2],\n",
    "    \"n_training\" : [int(12**2/4)],\n",
    "    \"n_runs\" : [1000]\n",
    "})"
   ]
  },
  {
   "cell_type": "code",
   "execution_count": null,
   "id": "63d5c354",
   "metadata": {
    "ExecuteTime": {
     "end_time": "2021-11-14T19:17:15.014153Z",
     "start_time": "2021-11-14T19:17:14.843406Z"
    }
   },
   "outputs": [],
   "source": [
    "df_info, l_info = utils.simulation_conditions(dict_variables)"
   ]
  },
  {
   "cell_type": "markdown",
   "id": "5152f47d",
   "metadata": {},
   "source": [
    "# Visualize Conditions"
   ]
  },
  {
   "cell_type": "code",
   "execution_count": null,
   "id": "78cbb7d9",
   "metadata": {
    "ExecuteTime": {
     "end_time": "2021-11-14T19:17:16.823731Z",
     "start_time": "2021-11-14T19:17:15.454924Z"
    },
    "scrolled": false
   },
   "outputs": [],
   "source": [
    "plot_utils.plot_heatmaps(l_info)"
   ]
  },
  {
   "cell_type": "code",
   "execution_count": null,
   "id": "03661d1a",
   "metadata": {
    "ExecuteTime": {
     "end_time": "2021-11-14T19:17:20.739597Z",
     "start_time": "2021-11-14T19:17:20.497100Z"
    }
   },
   "outputs": [],
   "source": [
    "plt.style.use(\"presentation.mplstyle\")\n",
    "plot_utils.plot_1d_waves(l_info)"
   ]
  },
  {
   "cell_type": "markdown",
   "id": "07bd00bb",
   "metadata": {},
   "source": [
    "# Sample Training Stimuli"
   ]
  },
  {
   "cell_type": "code",
   "execution_count": null,
   "id": "217777de",
   "metadata": {
    "ExecuteTime": {
     "end_time": "2021-11-14T19:17:21.709705Z",
     "start_time": "2021-11-14T19:17:21.561508Z"
    }
   },
   "outputs": [],
   "source": [
    "l_df_xy = list(map(utils.make_stimuli, l_info))"
   ]
  },
  {
   "cell_type": "code",
   "execution_count": null,
   "id": "e3d2ab4d",
   "metadata": {
    "ExecuteTime": {
     "end_time": "2021-11-14T19:17:24.284988Z",
     "start_time": "2021-11-14T19:17:24.198710Z"
    }
   },
   "outputs": [],
   "source": [
    "l_df_xy[0]"
   ]
  },
  {
   "cell_type": "code",
   "execution_count": null,
   "id": "03e5eaf8",
   "metadata": {
    "ExecuteTime": {
     "end_time": "2021-11-14T19:11:29.079031Z",
     "start_time": "2021-11-14T19:11:28.978624Z"
    }
   },
   "outputs": [],
   "source": [
    "df_info"
   ]
  },
  {
   "cell_type": "code",
   "execution_count": null,
   "id": "c7008963",
   "metadata": {
    "ExecuteTime": {
     "end_time": "2021-11-14T19:17:31.495085Z",
     "start_time": "2021-11-14T19:17:30.458741Z"
    },
    "scrolled": false
   },
   "outputs": [],
   "source": [
    "fig, axes = plt.subplots(nrows=2,ncols=2,figsize=(20, 16), sharex=\"col\", sharey=\"col\",\n",
    "                  gridspec_kw={\"height_ratios\":[1, 1]})\n",
    "axes_flat = axes.flatten()\n",
    "l_df_xy[0], l_ivs, scaler = utils.scale_ivs(l_df_xy[0])\n",
    "l_df_xy[8], l_ivs, scaler = utils.scale_ivs(l_df_xy[8])\n",
    "df_train1, df_test1 = utils.split_train_test(l_info[0], l_df_xy[0])\n",
    "df_train2, df_test2 = utils.split_train_test(l_info[8], l_df_xy[8])\n",
    "plot_utils.uncertainty_on_test_data(df_train1, df_test1, l_ivs, axes_flat[0:2], show_colorbar=False) # smooth\n",
    "plot_utils.uncertainty_on_test_data(df_train2, df_test2, l_ivs, axes_flat[2:4], show_colorbar=False) # rough\n",
    "norm = plt.Normalize(\n",
    "    min(df_test1[\"y_pred_sd\"].min(), df_test2[\"y_pred_sd\"].min()), \n",
    "    max(df_test1[\"y_pred_sd\"].max(), df_test2[\"y_pred_sd\"].max())\n",
    ")\n",
    "sm = plt.cm.ScalarMappable(cmap=\"viridis\", norm=norm)\n",
    "sm.set_array([])\n",
    "axins = inset_axes(axes_flat[3],\n",
    "                    width=\"100%\",  \n",
    "                    height=\"5%\",\n",
    "                    loc='lower center',\n",
    "                    borderpad=-7\n",
    "                   )\n",
    "_ = fig.colorbar(sm, cax=axins, orientation=\"horizontal\")\n",
    "l_df_xy[0].drop([f\"\"\"{iv}_z\"\"\" for iv in l_ivs], axis=1, inplace=True)\n",
    "l_df_xy[8].drop([f\"\"\"{iv}_z\"\"\" for iv in l_ivs], axis=1, inplace=True)"
   ]
  },
  {
   "cell_type": "markdown",
   "id": "2e658c2a",
   "metadata": {},
   "source": [
    "*TO CONSIDERs*\n",
    "- proportion of datapoints shown to participants during training (currently .25)"
   ]
  },
  {
   "cell_type": "markdown",
   "id": "4e080771",
   "metadata": {},
   "source": [
    "Metropolis-Hastings Implementation\n",
    "1. compare the deviation on the current trial to the distribution of expected deviations from y_pred_sd\n",
    "2. uniformly sample a value between 0 and 1\n",
    "3. accept the sample if that value is smaller than the ratio in 1."
   ]
  },
  {
   "cell_type": "code",
   "execution_count": null,
   "id": "959eaf3f",
   "metadata": {
    "ExecuteTime": {
     "end_time": "2021-11-14T19:18:38.029185Z",
     "start_time": "2021-11-14T19:18:03.256277Z"
    },
    "scrolled": false
   },
   "outputs": [],
   "source": [
    "n_cpus = min(len(l_info), multiprocessing.cpu_count() - 2)\n",
    "p = multiprocessing.Pool(n_cpus)\n",
    "#f_partial = partial(utils.run_perception, l_df_xy=l_df_xy)\n",
    "# multiprocessing Pool map does not accept partial functions\n",
    "list_dfs_new = []\n",
    "for x in tqdm(p.starmap(utils.run_perception, zip(l_info, l_df_xy))):\n",
    "    list_dfs_new.append(x)"
   ]
  },
  {
   "cell_type": "code",
   "execution_count": null,
   "id": "b8c92b29",
   "metadata": {
    "ExecuteTime": {
     "end_time": "2021-11-14T19:18:43.164966Z",
     "start_time": "2021-11-14T19:18:43.066851Z"
    },
    "scrolled": true
   },
   "outputs": [],
   "source": [
    "df_info"
   ]
  },
  {
   "cell_type": "code",
   "execution_count": null,
   "id": "e99df2cb",
   "metadata": {
    "ExecuteTime": {
     "end_time": "2021-11-14T19:18:43.838781Z",
     "start_time": "2021-11-14T19:18:43.297153Z"
    },
    "scrolled": false
   },
   "outputs": [],
   "source": [
    "stim_id = 133 # but then 132 shows opposite pattern\n",
    "l_idxs = [2, 6, 10, 14]\n",
    "l_idxs = [0, 4, 8, 12]\n",
    "n_plots = len(l_idxs)\n",
    "n_cols = 2\n",
    "n_rows = int(np.ceil(n_plots / n_cols))\n",
    "f, axes = plt.subplots(n_cols, n_rows, figsize=(n_rows*4, 8), sharex=\"col\", sharey=\"col\")\n",
    "plot_utils.plot_gp_deviations(axes, l_idxs, list_dfs_new, df_info) # , stim_id\n",
    "plt.suptitle(\"Model Deviation from True Points after Testing Period\", size=20)\n",
    "plt.tight_layout()"
   ]
  },
  {
   "cell_type": "code",
   "execution_count": null,
   "id": "49c4b6f2",
   "metadata": {
    "ExecuteTime": {
     "end_time": "2021-11-14T13:18:12.183521Z",
     "start_time": "2021-11-14T13:18:12.093179Z"
    }
   },
   "outputs": [],
   "source": [
    "list_dfs_new[0][\"x_1_sample\"].min()"
   ]
  },
  {
   "cell_type": "markdown",
   "id": "26946cf6",
   "metadata": {},
   "source": [
    "# Save Simulated Data"
   ]
  },
  {
   "cell_type": "code",
   "execution_count": null,
   "id": "91349ee8",
   "metadata": {},
   "outputs": [],
   "source": [
    "str_today = str(date.today())"
   ]
  },
  {
   "cell_type": "markdown",
   "id": "41027672",
   "metadata": {},
   "source": [
    "with open(\"../data/str_today-refit-gp.pickle\", \"wb\") as f:\n",
    "    pickle.dump(list_dfs_new, f)"
   ]
  },
  {
   "cell_type": "code",
   "execution_count": null,
   "id": "0ac95c30",
   "metadata": {
    "ExecuteTime": {
     "end_time": "2021-11-14T11:22:29.501446Z",
     "start_time": "2021-11-14T11:22:29.401644Z"
    }
   },
   "outputs": [],
   "source": [
    "with open(\"../data/2021-11-12-refit-gp-1000-samples.pickle\", \"rb\") as f:\n",
    "    list_dfs_new = pickle.load(f)"
   ]
  },
  {
   "cell_type": "code",
   "execution_count": null,
   "id": "1bd7c0b8",
   "metadata": {},
   "outputs": [],
   "source": []
  }
 ],
 "metadata": {
  "kernelspec": {
   "display_name": "Python 3 (ipykernel)",
   "language": "python",
   "name": "python3"
  },
  "language_info": {
   "codemirror_mode": {
    "name": "ipython",
    "version": 3
   },
   "file_extension": ".py",
   "mimetype": "text/x-python",
   "name": "python",
   "nbconvert_exporter": "python",
   "pygments_lexer": "ipython3",
   "version": "3.9.7"
  }
 },
 "nbformat": 4,
 "nbformat_minor": 5
}
