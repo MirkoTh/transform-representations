{
 "cells": [
  {
   "cell_type": "code",
   "execution_count": null,
   "id": "2c892410",
   "metadata": {},
   "outputs": [],
   "source": [
    "from functools import reduce, partial\n",
    "import sys\n",
    "import multiprocessing\n",
    "import pickle\n",
    "\n",
    "import numpy as np\n",
    "import pandas as pd\n",
    "import matplotlib as mpl\n",
    "import matplotlib.pyplot as plt\n",
    "import seaborn as sns\n",
    "\n",
    "from sklearn.gaussian_process import GaussianProcessRegressor\n",
    "from sklearn.gaussian_process.kernels import RBF\n",
    "from tqdm.notebook import tqdm\n",
    "from mpl_toolkits.axes_grid1.inset_locator import inset_axes\n",
    "\n",
    "sys.path.append(\"..\")"
   ]
  },
  {
   "cell_type": "code",
   "execution_count": null,
   "id": "b2c0097d",
   "metadata": {},
   "outputs": [],
   "source": [
    "# home-grown modules\n",
    "import py_utils.utils as utils\n",
    "import py_utils.plotting as plot_utils"
   ]
  },
  {
   "cell_type": "code",
   "execution_count": null,
   "id": "a97694c9",
   "metadata": {},
   "outputs": [],
   "source": [
    "%load_ext autoreload\n",
    "%autoreload 2"
   ]
  },
  {
   "cell_type": "code",
   "execution_count": null,
   "id": "19fa4636",
   "metadata": {},
   "outputs": [],
   "source": [
    "plt.style.use(\"seaborn-whitegrid\")\n",
    "sns.set_style(\"whitegrid\")"
   ]
  },
  {
   "cell_type": "code",
   "execution_count": null,
   "id": "29f4f82d",
   "metadata": {},
   "outputs": [],
   "source": [
    "plt.style.use(\"presentation.mplstyle\")"
   ]
  },
  {
   "cell_type": "code",
   "execution_count": null,
   "id": "20e301dc",
   "metadata": {},
   "outputs": [],
   "source": [
    "dict_variables = dict({\n",
    "    \"condition\" : [\"smooth\", \"rough\"],\n",
    "    \"prior_sd\" : [.1, 1],\n",
    "    \"sampling\" : [\"metropolis-hastings\", \"improvement\"],\n",
    "    \"constrain_space\" : [True, False],\n",
    "    \"space_edge_min\" : [0],\n",
    "    \"space_edge_max\" : [12],\n",
    "    \"n_features\" : [2],\n",
    "    \"n_training\" : [int(12**2/4)],\n",
    "    \"n_runs\" : [500]\n",
    "})"
   ]
  },
  {
   "cell_type": "code",
   "execution_count": null,
   "id": "63d5c354",
   "metadata": {},
   "outputs": [],
   "source": [
    "df_info, l_info = utils.simulation_conditions(dict_variables)"
   ]
  },
  {
   "cell_type": "markdown",
   "id": "5152f47d",
   "metadata": {},
   "source": [
    "# Visualize Conditions"
   ]
  },
  {
   "cell_type": "code",
   "execution_count": null,
   "id": "78cbb7d9",
   "metadata": {
    "scrolled": false
   },
   "outputs": [],
   "source": [
    "plot_utils.plot_heatmaps(l_info)"
   ]
  },
  {
   "cell_type": "code",
   "execution_count": null,
   "id": "03661d1a",
   "metadata": {},
   "outputs": [],
   "source": [
    "plt.style.use(\"presentation.mplstyle\")\n",
    "plot_utils.plot_1d_waves(l_info)"
   ]
  },
  {
   "cell_type": "markdown",
   "id": "07bd00bb",
   "metadata": {},
   "source": [
    "# Sample Training Stimuli"
   ]
  },
  {
   "cell_type": "code",
   "execution_count": null,
   "id": "217777de",
   "metadata": {},
   "outputs": [],
   "source": [
    "l_df_xy = list(map(utils.make_stimuli, l_info))"
   ]
  },
  {
   "cell_type": "code",
   "execution_count": null,
   "id": "03e5eaf8",
   "metadata": {},
   "outputs": [],
   "source": [
    "df_info"
   ]
  },
  {
   "cell_type": "code",
   "execution_count": null,
   "id": "c7008963",
   "metadata": {
    "scrolled": false
   },
   "outputs": [],
   "source": [
    "fig, axes = plt.subplots(nrows=2,ncols=2,figsize=(20, 16), sharex=\"col\", sharey=\"col\",\n",
    "                  gridspec_kw={\"height_ratios\":[1, 1]})\n",
    "axes_flat = axes.flatten()\n",
    "df_train1, df_test1 = utils.split_train_test(dict_variables, l_df_xy, 0)\n",
    "df_train2, df_test2 = utils.split_train_test(dict_variables, l_df_xy, 8)\n",
    "plot_utils.uncertainty_on_test_data(df_train1, df_test1, axes_flat[0:2], show_colorbar=False) # smooth\n",
    "plot_utils.uncertainty_on_test_data(df_train2, df_test2, axes_flat[2:4], show_colorbar=False) # rough\n",
    "norm = plt.Normalize(\n",
    "    min(df_test1[\"y_pred_sd\"].min(), df_test2[\"y_pred_sd\"].min()), \n",
    "    max(df_test1[\"y_pred_sd\"].max(), df_test2[\"y_pred_sd\"].max())\n",
    ")\n",
    "sm = plt.cm.ScalarMappable(cmap=\"viridis\", norm=norm)\n",
    "sm.set_array([])\n",
    "axins = inset_axes(axes_flat[3],\n",
    "                    width=\"100%\",  \n",
    "                    height=\"5%\",\n",
    "                    loc='lower center',\n",
    "                    borderpad=-7\n",
    "                   )\n",
    "_ = fig.colorbar(sm, cax=axins, orientation=\"horizontal\")"
   ]
  },
  {
   "cell_type": "markdown",
   "id": "3c7e5fe5",
   "metadata": {},
   "source": [
    "*TO DOs*\n",
    "- boundary function to constrain space"
   ]
  },
  {
   "cell_type": "markdown",
   "id": "2e658c2a",
   "metadata": {},
   "source": [
    "*TO CONSIDERs*\n",
    "- proportion of datapoints shown to participants during training (currently .25)\n",
    "- "
   ]
  },
  {
   "cell_type": "markdown",
   "id": "4e080771",
   "metadata": {},
   "source": [
    "Metropolis-Hastings Implementation\n",
    "1. compare the deviation on the current trial to the distribution of expected deviations from y_pred_sd\n",
    "2. uniformly sample a value between 0 and 1\n",
    "3. accept the sample if that value is smaller than 1."
   ]
  },
  {
   "cell_type": "code",
   "execution_count": null,
   "id": "959eaf3f",
   "metadata": {
    "scrolled": false
   },
   "outputs": [],
   "source": [
    "n_cpus = min(len(l_info), multiprocessing.cpu_count() - 2)\n",
    "p = multiprocessing.Pool(n_cpus)\n",
    "f_partial = partial(utils.run_perception, df_train=df_train, df_test=df_test)\n",
    "list_dfs_new = []\n",
    "for x in tqdm(p.map(f_partial, l_info)):\n",
    "    list_dfs_new.append(x)"
   ]
  },
  {
   "cell_type": "code",
   "execution_count": null,
   "id": "b8c92b29",
   "metadata": {
    "scrolled": true
   },
   "outputs": [],
   "source": [
    "df_info"
   ]
  },
  {
   "cell_type": "code",
   "execution_count": null,
   "id": "e99df2cb",
   "metadata": {
    "scrolled": false
   },
   "outputs": [],
   "source": [
    "stim_id = 133 # but then 132 shows opposite pattern\n",
    "l_idxs = [2, 6, 10, 14]\n",
    "n_plots = len(l_idxs)\n",
    "n_cols = 2\n",
    "n_rows = int(np.ceil(n_plots / n_cols))\n",
    "f, axes = plt.subplots(n_cols, n_rows, figsize=(n_rows*4, 8), sharex=True, sharey=True)\n",
    "plot_utils.plot_gp_deviations(axes, l_idxs, list_dfs_new, df_info) # , stim_id\n",
    "plt.suptitle(\"Model Deviation from True Points after Testing Period\", size=20)\n",
    "plt.tight_layout()"
   ]
  },
  {
   "cell_type": "markdown",
   "id": "26946cf6",
   "metadata": {},
   "source": [
    "# Save Simulated Data"
   ]
  },
  {
   "cell_type": "code",
   "execution_count": null,
   "id": "91349ee8",
   "metadata": {},
   "outputs": [],
   "source": [
    "str_today = str(date.today())"
   ]
  },
  {
   "cell_type": "markdown",
   "id": "41027672",
   "metadata": {},
   "source": [
    "with open(\"../data/str_today-refit-gp.pickle\", \"wb\") as f:\n",
    "    pickle.dump(list_dfs_new, f)"
   ]
  },
  {
   "cell_type": "code",
   "execution_count": null,
   "id": "0ac95c30",
   "metadata": {},
   "outputs": [],
   "source": [
    "with open(\"../data/2021-11-12-refit-gp-1000-samples.pickle\", \"rb\") as f:\n",
    "    list_dfs_new = pickle.load(f)"
   ]
  }
 ],
 "metadata": {
  "kernelspec": {
   "display_name": "Python 3 (ipykernel)",
   "language": "python",
   "name": "python3"
  },
  "language_info": {
   "codemirror_mode": {
    "name": "ipython",
    "version": 3
   },
   "file_extension": ".py",
   "mimetype": "text/x-python",
   "name": "python",
   "nbconvert_exporter": "python",
   "pygments_lexer": "ipython3",
   "version": "3.9.7"
  }
 },
 "nbformat": 4,
 "nbformat_minor": 5
}
