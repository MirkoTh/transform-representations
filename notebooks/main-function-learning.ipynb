{
 "cells": [
  {
   "cell_type": "markdown",
   "id": "43e512da",
   "metadata": {
    "toc": true
   },
   "source": [
    "<h1>Table of Contents<span class=\"tocSkip\"></span></h1>\n",
    "<div class=\"toc\"><ul class=\"toc-item\"><li><span><a href=\"#Visualize-Conditions\" data-toc-modified-id=\"Visualize-Conditions-1\"><span class=\"toc-item-num\">1&nbsp;&nbsp;</span>Visualize Conditions</a></span></li><li><span><a href=\"#Sample-Training-Stimuli\" data-toc-modified-id=\"Sample-Training-Stimuli-2\"><span class=\"toc-item-num\">2&nbsp;&nbsp;</span>Sample Training Stimuli</a></span></li><li><span><a href=\"#Run-Function-Learning-Task\" data-toc-modified-id=\"Run-Function-Learning-Task-3\"><span class=\"toc-item-num\">3&nbsp;&nbsp;</span>Run Function-Learning Task</a></span></li><li><span><a href=\"#Save-Simulated-Data\" data-toc-modified-id=\"Save-Simulated-Data-4\"><span class=\"toc-item-num\">4&nbsp;&nbsp;</span>Save Simulated Data</a></span></li><li><span><a href=\"#Plot-Movements-in-Space\" data-toc-modified-id=\"Plot-Movements-in-Space-5\"><span class=\"toc-item-num\">5&nbsp;&nbsp;</span>Plot Movements in Space</a></span></li><li><span><a href=\"#True-y-Value-vs.-Size-of-Change\" data-toc-modified-id=\"True-y-Value-vs.-Size-of-Change-6\"><span class=\"toc-item-num\">6&nbsp;&nbsp;</span>True y Value vs. Size of Change</a></span></li><li><span><a href=\"#Local-Change-vs.-Size-of-Change\" data-toc-modified-id=\"Local-Change-vs.-Size-of-Change-7\"><span class=\"toc-item-num\">7&nbsp;&nbsp;</span>Local Change vs. Size of Change</a></span></li><li><span><a href=\"#Prediction-Uncertainty-vs.-Size-of-Change\" data-toc-modified-id=\"Prediction-Uncertainty-vs.-Size-of-Change-8\"><span class=\"toc-item-num\">8&nbsp;&nbsp;</span>Prediction Uncertainty vs. Size of Change</a></span></li><li><span><a href=\"#Correlations-Between-Movements-in-Different-Conditions\" data-toc-modified-id=\"Correlations-Between-Movements-in-Different-Conditions-9\"><span class=\"toc-item-num\">9&nbsp;&nbsp;</span>Correlations Between Movements in Different Conditions</a></span></li><li><span><a href=\"#Plot-Changes-in-Uncertainty\" data-toc-modified-id=\"Plot-Changes-in-Uncertainty-10\"><span class=\"toc-item-num\">10&nbsp;&nbsp;</span>Plot Changes in Uncertainty</a></span></li></ul></div>"
   ]
  },
  {
   "cell_type": "code",
   "execution_count": null,
   "id": "2c892410",
   "metadata": {
    "ExecuteTime": {
     "end_time": "2021-12-10T12:18:12.403736Z",
     "start_time": "2021-12-10T12:18:08.616577Z"
    }
   },
   "outputs": [],
   "source": [
    "from functools import reduce, partial\n",
    "from itertools import repeat\n",
    "from datetime import date\n",
    "import sys\n",
    "import multiprocessing\n",
    "import pickle\n",
    "\n",
    "import numpy as np\n",
    "import pandas as pd\n",
    "import matplotlib as mpl\n",
    "import matplotlib.pyplot as plt\n",
    "import seaborn as sns\n",
    "\n",
    "from sklearn.gaussian_process import GaussianProcessRegressor\n",
    "from sklearn.gaussian_process.kernels import RBF\n",
    "from tqdm.notebook import tqdm\n",
    "from mpl_toolkits.axes_grid1.inset_locator import inset_axes\n",
    "from statsmodels.distributions import ECDF\n",
    "\n",
    "sys.path.append(\"..\")"
   ]
  },
  {
   "cell_type": "code",
   "execution_count": null,
   "id": "b2c0097d",
   "metadata": {
    "ExecuteTime": {
     "end_time": "2021-12-10T12:18:12.590108Z",
     "start_time": "2021-12-10T12:18:12.405769Z"
    }
   },
   "outputs": [],
   "source": [
    "# home-grown modules\n",
    "import py_utils.utils as utils\n",
    "import py_utils.plotting as plot_utils"
   ]
  },
  {
   "cell_type": "code",
   "execution_count": null,
   "id": "a97694c9",
   "metadata": {
    "ExecuteTime": {
     "end_time": "2021-12-10T12:18:12.684104Z",
     "start_time": "2021-12-10T12:18:12.591765Z"
    }
   },
   "outputs": [],
   "source": [
    "%load_ext autoreload\n",
    "%autoreload 2"
   ]
  },
  {
   "cell_type": "code",
   "execution_count": null,
   "id": "19fa4636",
   "metadata": {
    "ExecuteTime": {
     "end_time": "2021-12-10T12:18:12.763607Z",
     "start_time": "2021-12-10T12:18:12.686091Z"
    }
   },
   "outputs": [],
   "source": [
    "plt.style.use(\"seaborn-whitegrid\")\n",
    "sns.set_style(\"whitegrid\")"
   ]
  },
  {
   "cell_type": "code",
   "execution_count": null,
   "id": "29f4f82d",
   "metadata": {
    "ExecuteTime": {
     "end_time": "2021-12-10T12:18:12.843810Z",
     "start_time": "2021-12-10T12:18:12.765604Z"
    }
   },
   "outputs": [],
   "source": [
    "plt.style.use(\"presentation.mplstyle\")"
   ]
  },
  {
   "cell_type": "code",
   "execution_count": null,
   "id": "20e301dc",
   "metadata": {
    "ExecuteTime": {
     "end_time": "2021-12-10T12:27:12.546839Z",
     "start_time": "2021-12-10T12:27:12.466926Z"
    }
   },
   "outputs": [],
   "source": [
    "dict_variables = dict({\n",
    "    \"condition\" : [\"smooth\", \"rough\"],\n",
    "    \"prior_sd\" : np.arange(.1, 1, .2),\n",
    "    \"sampling\" : [\"improvement\"], # \"metropolis-hastings\", \n",
    "    \"constrain_space\" : [False],\n",
    "    \"space_edge_min\" : [0],\n",
    "    \"space_edge_max\" : [12],\n",
    "    \"n_features\" : [2],\n",
    "    \"n_training\" : [int(12**2/3)],\n",
    "    \"n_runs\" : [500]\n",
    "})"
   ]
  },
  {
   "cell_type": "code",
   "execution_count": null,
   "id": "63d5c354",
   "metadata": {
    "ExecuteTime": {
     "end_time": "2021-12-10T12:27:12.935912Z",
     "start_time": "2021-12-10T12:27:12.809801Z"
    }
   },
   "outputs": [],
   "source": [
    "df_info, l_info, l_titles = utils.simulation_conditions(dict_variables)"
   ]
  },
  {
   "cell_type": "code",
   "execution_count": null,
   "id": "34fb075f",
   "metadata": {
    "ExecuteTime": {
     "end_time": "2021-12-10T12:27:13.122661Z",
     "start_time": "2021-12-10T12:27:13.016905Z"
    }
   },
   "outputs": [],
   "source": [
    "df_info"
   ]
  },
  {
   "cell_type": "markdown",
   "id": "5152f47d",
   "metadata": {},
   "source": [
    "# Visualize Conditions"
   ]
  },
  {
   "cell_type": "code",
   "execution_count": null,
   "id": "78cbb7d9",
   "metadata": {
    "ExecuteTime": {
     "end_time": "2021-12-10T12:27:15.248066Z",
     "start_time": "2021-12-10T12:27:13.354873Z"
    },
    "scrolled": false
   },
   "outputs": [],
   "source": [
    "plot_utils.plot_heatmaps(l_info)"
   ]
  },
  {
   "cell_type": "code",
   "execution_count": null,
   "id": "03661d1a",
   "metadata": {
    "ExecuteTime": {
     "end_time": "2021-12-10T12:27:16.161246Z",
     "start_time": "2021-12-10T12:27:15.250061Z"
    },
    "scrolled": false
   },
   "outputs": [],
   "source": [
    "plt.style.use(\"presentation.mplstyle\")\n",
    "plot_utils.plot_1d_waves(l_info)"
   ]
  },
  {
   "cell_type": "markdown",
   "id": "07bd00bb",
   "metadata": {},
   "source": [
    "# Sample Training Stimuli"
   ]
  },
  {
   "cell_type": "code",
   "execution_count": null,
   "id": "217777de",
   "metadata": {
    "ExecuteTime": {
     "end_time": "2021-12-10T12:27:20.557812Z",
     "start_time": "2021-12-10T12:27:16.162244Z"
    }
   },
   "outputs": [],
   "source": [
    "l_df_xy = list(map(utils.make_stimuli, l_info))"
   ]
  },
  {
   "cell_type": "code",
   "execution_count": null,
   "id": "c7008963",
   "metadata": {
    "ExecuteTime": {
     "end_time": "2021-12-10T12:27:21.627517Z",
     "start_time": "2021-12-10T12:27:20.559806Z"
    },
    "scrolled": false
   },
   "outputs": [],
   "source": [
    "float_formatter = \"{:.5f}\".format\n",
    "fig, axes = plt.subplots(nrows=2,ncols=2,figsize=(20, 16), sharex=False, sharey=\"col\",\n",
    "                  gridspec_kw={\"height_ratios\":[1, 1]})\n",
    "axes_flat = axes.flatten()\n",
    "l_df_xy[0], l_ivs, scaler = utils.scale_ivs(l_df_xy[0])\n",
    "l_df_xy[5], l_ivs, scaler = utils.scale_ivs(l_df_xy[5])\n",
    "df_train1, df_test1 = utils.split_train_test(l_info[0], l_df_xy[0])\n",
    "df_train2, df_test2 = utils.split_train_test(l_info[5], l_df_xy[5])\n",
    "# smooth\n",
    "df_test1 = plot_utils.uncertainty_on_test_data(\n",
    "    df_train1, df_test1, l_info[0], l_ivs\n",
    ")\n",
    "# rough\n",
    "df_test2 = plot_utils.uncertainty_on_test_data(\n",
    "    df_train2, df_test2, l_info[5], l_ivs\n",
    ")\n",
    "min_val = min(df_test1[\"y_pred_sd\"].min(), df_test2[\"y_pred_sd\"].min())\n",
    "max_val = max(df_test1[\"y_pred_sd\"].max(), df_test2[\"y_pred_sd\"].max())\n",
    "\n",
    "plot_utils.plot_uncertainty_on_test_data(df_test1, axes_flat[0:2], show_colorbar=False, min_val=min_val, max_val=max_val)\n",
    "plot_utils.plot_uncertainty_on_test_data(df_test2, axes_flat[2:5], show_colorbar=False, min_val=min_val, max_val=max_val)\n",
    "\n",
    "\n",
    "norm = plt.Normalize(\n",
    "    min(df_test1[\"y_pred_sd\"].min(), df_test2[\"y_pred_sd\"].min()), \n",
    "    max(df_test1[\"y_pred_sd\"].max(), df_test2[\"y_pred_sd\"].max())\n",
    ")\n",
    "sm = plt.cm.ScalarMappable(cmap=\"viridis\", norm=norm)\n",
    "sm.set_array([])\n",
    "axins = inset_axes(axes_flat[3],\n",
    "                    width=\"100%\",  \n",
    "                    height=\"5%\",\n",
    "                    loc='lower center',\n",
    "                    borderpad=-7\n",
    "                   )\n",
    "_ = fig.colorbar(sm, cax=axins, orientation=\"horizontal\")\n",
    "l_df_xy[0].drop([f\"\"\"{iv}_z\"\"\" for iv in l_ivs], axis=1, inplace=True)\n",
    "l_df_xy[5].drop([f\"\"\"{iv}_z\"\"\" for iv in l_ivs], axis=1, inplace=True)\n",
    "\n",
    "xt0 = [float_formatter(t) for t in axes_flat[0].get_xticks()]\n",
    "axes_flat[0].xaxis.set_ticks([float(xv) for xv in xt0])\n",
    "axes_flat[0].set_xticklabels(xt0, rotation=90)\n",
    "xt2 = [float_formatter(t) for t in axes_flat[2].get_xticks()]\n",
    "axes_flat[2].xaxis.set_ticks([float(xv) for xv in xt2])\n",
    "_ = axes_flat[2].set_xticklabels(xt2, rotation=90)\n",
    "\n",
    "plt.tight_layout()"
   ]
  },
  {
   "cell_type": "markdown",
   "id": "4e080771",
   "metadata": {},
   "source": [
    "Metropolis-Hastings Implementation\n",
    "1. compare the y prediction error on the current trial to the distribution of expected deviations from y_pred_sd\n",
    "2. uniformly sample a value between 0 and 1\n",
    "3. accept the sample if that value is smaller than (1 - the ratio in 1)."
   ]
  },
  {
   "cell_type": "markdown",
   "id": "196e5307",
   "metadata": {},
   "source": [
    "# Possible Improvements\n",
    "- improvement = prediction gets closer to true value AND prediction uncertainty decreases\n"
   ]
  },
  {
   "cell_type": "markdown",
   "id": "f6006e1c",
   "metadata": {},
   "source": [
    "# Run Function-Learning Task"
   ]
  },
  {
   "cell_type": "code",
   "execution_count": null,
   "id": "390de108",
   "metadata": {
    "ExecuteTime": {
     "end_time": "2021-12-10T12:27:48.493802Z",
     "start_time": "2021-12-10T12:27:40.540167Z"
    },
    "scrolled": false
   },
   "outputs": [],
   "source": [
    "n_cpus = min(len(l_info), multiprocessing.cpu_count() - 2)\n",
    "p = multiprocessing.Pool(n_cpus)\n",
    "#f_partial = partial(utils.run_perception, l_df_xy=l_df_xy)\n",
    "# multiprocessing Pool map does not accept partial functions\n",
    "list_perception = []\n",
    "for x in tqdm(p.starmap(utils.run_perception, zip(l_info, l_df_xy))):\n",
    "    list_perception.append(x)"
   ]
  },
  {
   "cell_type": "code",
   "execution_count": null,
   "id": "f066ab27",
   "metadata": {
    "ExecuteTime": {
     "end_time": "2021-12-10T12:27:53.372087Z",
     "start_time": "2021-12-10T12:27:53.288645Z"
    }
   },
   "outputs": [],
   "source": [
    "list_dfs_new = [l[0] for l in list_perception]\n",
    "list_kernels = [l[1] for l in list_perception]"
   ]
  },
  {
   "cell_type": "code",
   "execution_count": null,
   "id": "46252cd2",
   "metadata": {
    "ExecuteTime": {
     "end_time": "2021-12-10T12:27:58.351971Z",
     "start_time": "2021-12-10T12:27:57.561830Z"
    },
    "scrolled": false
   },
   "outputs": [],
   "source": [
    "df_info[\"first_l\"] = [k[0] for k in list_kernels]\n",
    "df_info[\"final_l\"] = [k[-1] for k in list_kernels]\n",
    "df_length = df_info.groupby([\"condition\", \"prior_sd\", \"sampling\"])[[\"first_l\", \"final_l\"]].mean().reset_index()\n",
    "df_length = df_length.melt(\n",
    "    id_vars=[\"condition\", \"prior_sd\", \"sampling\"], \n",
    "    value_vars=[\"first_l\", \"final_l\"],\n",
    "    var_name=\"Timepoint\",\n",
    "    value_name=\"Length Value\"\n",
    ")\n",
    "_ = sns.catplot(\n",
    "    x=\"Timepoint\", y=\"Length Value\", hue=\"condition\", \n",
    "    row=\"sampling\", col=\"prior_sd\", kind=\"point\", scale=5,\n",
    "    data=df_length\n",
    ")"
   ]
  },
  {
   "cell_type": "markdown",
   "id": "20872b1f",
   "metadata": {},
   "source": [
    "# Save Simulated Data"
   ]
  },
  {
   "cell_type": "code",
   "execution_count": null,
   "id": "91349ee8",
   "metadata": {},
   "outputs": [],
   "source": [
    "str_today = str(date.today())"
   ]
  },
  {
   "cell_type": "markdown",
   "id": "6c56c63d",
   "metadata": {},
   "source": [
    "with open(f\"\"\"../data/{str_today}-refit-gp-more-prior-sds.pickle\"\"\", \"wb\") as f:\n",
    "    pickle.dump(list_dfs_new, f)"
   ]
  },
  {
   "cell_type": "markdown",
   "id": "acf850a8",
   "metadata": {
    "ExecuteTime": {
     "end_time": "2021-11-14T11:22:29.501446Z",
     "start_time": "2021-11-14T11:22:29.401644Z"
    }
   },
   "source": [
    "with open(f\"\"\"../data/{str_today}-refit-gp.pickle\"\"\", \"rb\") as f:\n",
    "    list_dfs_new = pickle.load(f)"
   ]
  },
  {
   "cell_type": "markdown",
   "id": "0001c665",
   "metadata": {},
   "source": [
    "- think about leaving in prior points when plotting movements (prior & likelihood...) as I did that in the category learning part"
   ]
  },
  {
   "cell_type": "markdown",
   "id": "f5e9ff29",
   "metadata": {},
   "source": [
    "# Plot Movements in Space"
   ]
  },
  {
   "cell_type": "code",
   "execution_count": null,
   "id": "19e1c1d1",
   "metadata": {
    "scrolled": true
   },
   "outputs": [],
   "source": [
    "df_info"
   ]
  },
  {
   "cell_type": "code",
   "execution_count": null,
   "id": "e8216401",
   "metadata": {
    "ExecuteTime": {
     "end_time": "2021-12-10T12:28:03.492267Z",
     "start_time": "2021-12-10T12:28:02.673933Z"
    }
   },
   "outputs": [],
   "source": [
    "f_partial = partial(plot_utils.plot_moves_one_condition, list_dfs_new=list_dfs_new, df_info=df_info)\n",
    "l_idxs = df_info.index[0:10].to_list()\n",
    "f, axes = plt.subplots(2, 5, figsize=(24, 16))\n",
    "_ = list(map(f_partial, l_idxs, axes.flatten()))\n",
    "plt.tight_layout()\n",
    "# plt.savefig(f\"\"\"../figures/{str_today}-func-learning-smooth-movements-refit.png\"\"\")"
   ]
  },
  {
   "cell_type": "code",
   "execution_count": null,
   "id": "1328409d",
   "metadata": {
    "ExecuteTime": {
     "end_time": "2021-12-10T12:28:07.483627Z",
     "start_time": "2021-12-10T12:28:06.776658Z"
    }
   },
   "outputs": [],
   "source": [
    "f_partial = partial(plot_utils.plot_moves_one_condition, list_dfs_new=list_dfs_new, df_info=df_info)\n",
    "l_idxs = df_info.index[6:12].to_list()\n",
    "f, axes = plt.subplots(2, 3, figsize=(24, 16))\n",
    "_ = list(map(f_partial, l_idxs, axes.flatten()))\n",
    "plt.tight_layout()\n",
    "# plt.savefig(f\"\"\"../figures/{str_today}-func-learning-rough-movements-refit.png\"\"\")"
   ]
  },
  {
   "cell_type": "markdown",
   "id": "c118cf39",
   "metadata": {},
   "source": [
    "# True y Value vs. Size of Change"
   ]
  },
  {
   "cell_type": "code",
   "execution_count": null,
   "id": "6253b4eb",
   "metadata": {
    "ExecuteTime": {
     "end_time": "2021-12-10T12:29:16.637965Z",
     "start_time": "2021-12-10T12:28:49.300559Z"
    }
   },
   "outputs": [],
   "source": [
    "list_dfs_new = list(map(utils.add_max_gradient, tqdm(list_dfs_new)))"
   ]
  },
  {
   "cell_type": "code",
   "execution_count": null,
   "id": "a34f046a",
   "metadata": {
    "ExecuteTime": {
     "end_time": "2021-12-10T12:29:22.443069Z",
     "start_time": "2021-12-10T12:29:16.639926Z"
    },
    "scrolled": false
   },
   "outputs": [],
   "source": [
    "fig, axes = plt.subplots(2, 5, figsize=(25, 12))\n",
    "axes_flat = axes.flatten()\n",
    "_ = list(map(plot_utils.regplot_y, list_dfs_new, l_titles, axes_flat))\n",
    "plt.tight_layout()"
   ]
  },
  {
   "cell_type": "markdown",
   "id": "e73206af",
   "metadata": {},
   "source": [
    "# Local Change vs. Size of Change"
   ]
  },
  {
   "cell_type": "code",
   "execution_count": null,
   "id": "b36ea453",
   "metadata": {
    "ExecuteTime": {
     "end_time": "2021-12-10T12:31:08.061592Z",
     "start_time": "2021-12-10T12:31:03.808638Z"
    }
   },
   "outputs": [],
   "source": [
    "fig, axes = plt.subplots(2, 5, figsize=(25, 12))\n",
    "axes_flat = axes.flatten()\n",
    "_ = list(map(plot_utils.regplot_max_gradient, list_dfs_new, l_titles, axes_flat))\n",
    "plt.tight_layout()"
   ]
  },
  {
   "cell_type": "markdown",
   "id": "df8a418b",
   "metadata": {},
   "source": [
    "# Prediction Uncertainty vs. Size of Change"
   ]
  },
  {
   "cell_type": "code",
   "execution_count": null,
   "id": "160ab859",
   "metadata": {
    "ExecuteTime": {
     "end_time": "2021-12-10T13:07:09.667240Z",
     "start_time": "2021-12-10T13:07:04.340553Z"
    },
    "scrolled": false
   },
   "outputs": [],
   "source": [
    "fig, axes = plt.subplots(2, 5, figsize=(25, 12))\n",
    "axes_flat = axes.flatten()\n",
    "_ = list(map(plot_utils.regplot_start_uncertainty, list_dfs_new, l_titles, axes_flat))\n",
    "plt.tight_layout()\n",
    "str_note = \"Note. y axes differ between panels\"\n",
    "_ = plt.figtext(0.99, -0.02, str_note, horizontalalignment='right', size=25)"
   ]
  },
  {
   "cell_type": "markdown",
   "id": "7921e832",
   "metadata": {},
   "source": [
    "# Summary Function Learning\n",
    "- After training, more information is still required when people are in the rough condition compared to smooth condition\n",
    "    - i.e., people are more likely to accept samples in the rough condition\n",
    "    - overall movement of representations in space should be larger\n",
    "- how about metropolis-hasting algorithm? why is there no reduction in uncertainty?"
   ]
  },
  {
   "cell_type": "code",
   "execution_count": null,
   "id": "a0e87967",
   "metadata": {
    "scrolled": false
   },
   "outputs": [],
   "source": [
    "fig, axes = plt.subplots(2, 5, figsize=(25, 12), sharex=True, sharey=True)\n",
    "axes_flat = axes.flatten()\n",
    "_ = list(map(plot_utils.plot_movement_lengths, list_dfs_new, l_titles, axes_flat))\n",
    "plt.tight_layout()"
   ]
  },
  {
   "cell_type": "markdown",
   "id": "75d84be7",
   "metadata": {},
   "source": [
    "# Correlations Between Movements in Different Conditions"
   ]
  },
  {
   "cell_type": "code",
   "execution_count": null,
   "id": "d8fe06c6",
   "metadata": {
    "ExecuteTime": {
     "end_time": "2021-12-10T12:34:50.033118Z",
     "start_time": "2021-12-10T12:34:49.829952Z"
    }
   },
   "outputs": [],
   "source": [
    "l_df_movements = list(map(utils.add_angle_of_movements, list_dfs_new))"
   ]
  },
  {
   "cell_type": "code",
   "execution_count": null,
   "id": "e808e646",
   "metadata": {
    "ExecuteTime": {
     "end_time": "2021-12-10T12:34:51.205409Z",
     "start_time": "2021-12-10T12:34:50.850055Z"
    }
   },
   "outputs": [],
   "source": [
    "df1 = pd.Series(range(len(l_df_movements)), name=\"Condition 1\")\n",
    "df2 = pd.Series(range(len(l_df_movements)), name=\"Condition 2\")\n",
    "df_cross = pd.merge(df1, df2, how=\"cross\")\n",
    "f_partial = partial(plot_utils.correlation_between_movement_angles, l_df_movements = l_df_movements)\n",
    "df_cross[\"correlation\"] = list(map(f_partial, df_cross[\"Condition 1\"].to_list(), df_cross[\"Condition 2\"].to_list()))"
   ]
  },
  {
   "cell_type": "code",
   "execution_count": null,
   "id": "bf6d0976",
   "metadata": {
    "ExecuteTime": {
     "end_time": "2021-12-10T12:34:54.277912Z",
     "start_time": "2021-12-10T12:34:54.193550Z"
    }
   },
   "outputs": [],
   "source": [
    "filt_info = (df_info[\"constrain_space\"] == False)#(df_info[\"prior_sd\"] == 1)# & \n",
    "idxs_required = df_info.loc[filt_info].index.to_list()#\n",
    "filt = (df_cross[\"Condition 1\"].isin(idxs_required)) & (df_cross[\"Condition 2\"].isin(idxs_required))\n",
    "df_cross = df_cross.loc[filt, ].copy()"
   ]
  },
  {
   "cell_type": "code",
   "execution_count": null,
   "id": "d2730235",
   "metadata": {
    "ExecuteTime": {
     "end_time": "2021-12-10T12:34:54.590089Z",
     "start_time": "2021-12-10T12:34:54.492412Z"
    }
   },
   "outputs": [],
   "source": [
    "df_cross[\"corr_above_0\"] = df_cross[\"correlation\"] > 0\n",
    "prop_above_0 = (\n",
    "    df_cross.query(\"`Condition 1` != `Condition 2`\")[\"corr_above_0\"].sum() / \n",
    "    df_cross.query(\"`Condition 1` != `Condition 2`\").shape[0]\n",
    ").round(2)\n",
    "print(\"Proportion of Correlations > 0 between Movement Directions in Simulation Conditions: \", prop_above_0)"
   ]
  },
  {
   "cell_type": "code",
   "execution_count": null,
   "id": "198e616c",
   "metadata": {
    "ExecuteTime": {
     "end_time": "2021-12-10T12:34:55.355080Z",
     "start_time": "2021-12-10T12:34:54.834454Z"
    }
   },
   "outputs": [],
   "source": [
    "f, ax = plt.subplots(1, 1, figsize=(10, 8))\n",
    "sns.heatmap(\n",
    "    df_cross.pivot(index=\"Condition 1\", columns=\"Condition 2\", values=\"correlation\").round(2), \n",
    "    annot=True, annot_kws={\"size\":15}, linewidths=1, cmap=\"vlag\", vmin = -1, vmax = 1, ax=ax\n",
    ")\n",
    "_ = ax.set_title(\"Pairwise Correlations Between Movement Directions in Simulation Conditions\")\n",
    "plt.tight_layout()\n",
    "# plt.savefig(f\"\"\"../figures/{str_today}-func-learning-pairwise-correlations-constrained-refit.png\"\"\")"
   ]
  },
  {
   "cell_type": "markdown",
   "id": "8390d6e0",
   "metadata": {},
   "source": [
    "# Plot Changes in Uncertainty"
   ]
  },
  {
   "cell_type": "code",
   "execution_count": null,
   "id": "3af0648c",
   "metadata": {
    "ExecuteTime": {
     "end_time": "2021-12-10T12:35:00.695157Z",
     "start_time": "2021-12-10T12:34:58.609509Z"
    },
    "scrolled": false
   },
   "outputs": [],
   "source": [
    "stim_id = 133 # but then 132 shows opposite pattern\n",
    "l_idxs = range(0, 10)\n",
    "n_plots = len(l_idxs)\n",
    "n_cols = 2\n",
    "n_rows = int(np.ceil(n_plots / n_cols))\n",
    "f, axes = plt.subplots(n_cols, n_rows, figsize=(n_cols*12, n_rows*2), sharex=\"col\", sharey=\"col\")\n",
    "plot_utils.plot_gp_deviations(axes, l_idxs, list_dfs_new, l_titles) # , stim_id\n",
    "plt.suptitle(\"Model Deviation from True Points after Testing Period\\n\", size=20)\n",
    "# plt.tight_layout()"
   ]
  },
  {
   "cell_type": "code",
   "execution_count": null,
   "id": "f341c4ab",
   "metadata": {
    "ExecuteTime": {
     "end_time": "2021-12-10T12:35:17.924221Z",
     "start_time": "2021-12-10T12:35:15.709760Z"
    }
   },
   "outputs": [],
   "source": [
    "fig, axes = plt.subplots(2, 6, figsize=(25, 9), sharex=True, sharey=True)\n",
    "f_partial = partial(plot_utils.plot_proportion_accepted_samples, n_runs=l_info[0][\"n_runs\"])\n",
    "list(map(f_partial, list_dfs_new, l_titles, axes.flatten()))\n",
    "_ = fig.suptitle(\"Proportion of Accepted Samples Over Course of Function-Learning Task\\n\")\n",
    "plt.tight_layout()"
   ]
  },
  {
   "cell_type": "code",
   "execution_count": null,
   "id": "f3ca1dda",
   "metadata": {
    "ExecuteTime": {
     "end_time": "2021-12-10T12:51:25.615972Z",
     "start_time": "2021-12-10T12:51:22.913365Z"
    },
    "scrolled": false
   },
   "outputs": [],
   "source": [
    "fig, axes = plt.subplots(2, 5, figsize=(25, 18), sharex=True, sharey=True)\n",
    "plot_uncertainty_over_test_partial = partial(plot_utils.plot_var_over_bintime, var=\"y_pred_sd\")\n",
    "list(map(plot_uncertainty_over_test_partial, list_dfs_new, l_titles, axes.flatten()))\n",
    "_ = fig.suptitle(\"Uncertainty of Predictions Against Test Trial\\n\")\n",
    "plt.tight_layout()\n",
    "str_note = \"Note. y axes differ between panels\"\n",
    "# _ = plt.figtext(0.99, -0.02, str_note, horizontalalignment='right', size=25)"
   ]
  },
  {
   "cell_type": "code",
   "execution_count": null,
   "id": "3f211e10",
   "metadata": {
    "ExecuteTime": {
     "end_time": "2021-12-10T12:51:25.615972Z",
     "start_time": "2021-12-10T12:51:22.913365Z"
    },
    "scrolled": false
   },
   "outputs": [],
   "source": [
    "fig, axes = plt.subplots(2, 5, figsize=(25, 18), sharex=True, sharey=True)\n",
    "plot_uncertainty_over_test_partial = partial(plot_utils.plot_var_over_bintime, var=\"r_sq\")\n",
    "list(map(plot_uncertainty_over_test_partial, list_dfs_new, l_titles, axes.flatten()))\n",
    "_ = fig.suptitle(\"R Squared Against Test Trial\\n\")\n",
    "plt.tight_layout()\n",
    "str_note = \"Note. y axes differ between panels\"\n",
    "# _ = plt.figtext(0.99, -0.02, str_note, horizontalalignment='right', size=25)"
   ]
  }
 ],
 "metadata": {
  "kernelspec": {
   "display_name": "Python 3 (ipykernel)",
   "language": "python",
   "name": "python3"
  },
  "language_info": {
   "codemirror_mode": {
    "name": "ipython",
    "version": 3
   },
   "file_extension": ".py",
   "mimetype": "text/x-python",
   "name": "python",
   "nbconvert_exporter": "python",
   "pygments_lexer": "ipython3",
   "version": "3.9.7"
  },
  "toc": {
   "base_numbering": 1,
   "nav_menu": {},
   "number_sections": true,
   "sideBar": true,
   "skip_h1_title": false,
   "title_cell": "Table of Contents",
   "title_sidebar": "Contents",
   "toc_cell": true,
   "toc_position": {},
   "toc_section_display": true,
   "toc_window_display": false
  }
 },
 "nbformat": 4,
 "nbformat_minor": 5
}
