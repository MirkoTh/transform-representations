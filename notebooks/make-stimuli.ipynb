{
 "cells": [
  {
   "cell_type": "code",
   "execution_count": 1,
   "id": "db700852",
   "metadata": {
    "ExecuteTime": {
     "end_time": "2022-03-07T07:41:04.450101Z",
     "start_time": "2022-03-07T07:41:04.430492Z"
    }
   },
   "outputs": [],
   "source": [
    "import sys"
   ]
  },
  {
   "cell_type": "code",
   "execution_count": 2,
   "id": "93c6201a",
   "metadata": {
    "ExecuteTime": {
     "end_time": "2022-03-07T07:41:06.623250Z",
     "start_time": "2022-03-07T07:41:04.451099Z"
    }
   },
   "outputs": [],
   "source": [
    "import numpy as np\n",
    "import pandas as pd\n",
    "import matplotlib.pyplot as plt\n"
   ]
  },
  {
   "cell_type": "code",
   "execution_count": 3,
   "id": "257efcf1",
   "metadata": {
    "ExecuteTime": {
     "end_time": "2022-03-07T07:41:06.638298Z",
     "start_time": "2022-03-07T07:41:06.624251Z"
    }
   },
   "outputs": [],
   "source": [
    "sys.path.append(\"..\")"
   ]
  },
  {
   "cell_type": "code",
   "execution_count": 4,
   "id": "9d4e6e8d",
   "metadata": {
    "ExecuteTime": {
     "end_time": "2022-03-07T07:41:06.654018Z",
     "start_time": "2022-03-07T07:41:06.640188Z"
    }
   },
   "outputs": [],
   "source": [
    "import py_utils.stimuli as stim_utils"
   ]
  },
  {
   "cell_type": "code",
   "execution_count": 5,
   "id": "ab89cb96",
   "metadata": {
    "ExecuteTime": {
     "end_time": "2022-03-07T07:41:06.717413Z",
     "start_time": "2022-03-07T07:41:06.655019Z"
    },
    "scrolled": true
   },
   "outputs": [],
   "source": [
    "%load_ext autoreload"
   ]
  },
  {
   "cell_type": "code",
   "execution_count": 6,
   "id": "c116795e",
   "metadata": {
    "ExecuteTime": {
     "end_time": "2022-03-07T07:41:06.732835Z",
     "start_time": "2022-03-07T07:41:06.718960Z"
    }
   },
   "outputs": [],
   "source": [
    "%autoreload 2"
   ]
  },
  {
   "cell_type": "code",
   "execution_count": 7,
   "id": "0362aa68",
   "metadata": {
    "ExecuteTime": {
     "end_time": "2022-03-07T07:41:06.794914Z",
     "start_time": "2022-03-07T07:41:06.734330Z"
    }
   },
   "outputs": [],
   "source": [
    "n_steps = 100\n",
    "params = stim_utils.stimulus_parameters(n_steps)\n",
    "params[\"n_steps\"] = n_steps"
   ]
  },
  {
   "cell_type": "markdown",
   "id": "02ed26a8",
   "metadata": {},
   "source": [
    "# Full 2x2 Matrix of Stimuli"
   ]
  },
  {
   "cell_type": "code",
   "execution_count": null,
   "id": "66ee33f4",
   "metadata": {
    "ExecuteTime": {
     "end_time": "2022-02-09T20:52:33.573802Z",
     "start_time": "2022-02-09T20:52:08.640435Z"
    },
    "scrolled": true
   },
   "outputs": [],
   "source": [
    "#%% Test \n",
    "fig, axes = plt.subplots(params[\"n_steps\"], params[\"n_steps\"], figsize=(params[\"n_steps\"]*3,3*1.5*params[\"n_steps\"]))\n",
    "axes_flat = axes.flatten()\n",
    "counter = 0\n",
    "for i, radius in enumerate(params[\"d1val\"]):  # np.linspace(0, 1, n)\n",
    "    for j, fill_step in enumerate(params[\"fill_steps\"]):\n",
    "        axes_flat[counter] = stim_utils.draw_alien(radius, j, axes_flat[counter], params)\n",
    "        counter += 1\n",
    "plt.show()\n",
    "\n",
    "_ = plt.subplots_adjust(wspace=0, hspace=0)"
   ]
  },
  {
   "cell_type": "markdown",
   "id": "5e25c397",
   "metadata": {},
   "source": [
    "# Save Individual Stimuli"
   ]
  },
  {
   "cell_type": "code",
   "execution_count": 8,
   "id": "967fb157",
   "metadata": {
    "ExecuteTime": {
     "end_time": "2022-03-03T22:33:32.037524Z",
     "start_time": "2022-03-03T22:33:31.967994Z"
    }
   },
   "outputs": [],
   "source": [
    "from functools import partial"
   ]
  },
  {
   "cell_type": "code",
   "execution_count": 9,
   "id": "8d23af6d",
   "metadata": {
    "ExecuteTime": {
     "end_time": "2022-02-10T22:53:14.657970Z",
     "start_time": "2022-02-10T22:53:14.492841Z"
    }
   },
   "outputs": [],
   "source": [
    "def save_stimulus(idx_spiky, idx_belly, params):\n",
    "    path_folder = \"../experiments/2022-02-category-learning/stimuli/\"\n",
    "    nm_file = f\"\"\"stimulus[{idx_spiky + 1},{idx_belly + 1}]\"\"\"\n",
    "    f, ax = plt.subplots(1, 1, figsize=(6, 10))\n",
    "    radius = params[\"d1val\"][idx_spiky]\n",
    "    ax = stim_utils.draw_alien(radius, idx_belly, ax, params)\n",
    "    plt.savefig(path_folder + nm_file)\n",
    "    plt.close()"
   ]
  },
  {
   "cell_type": "code",
   "execution_count": 10,
   "id": "75f0e388",
   "metadata": {
    "ExecuteTime": {
     "end_time": "2022-02-10T22:53:14.827877Z",
     "start_time": "2022-02-10T22:53:14.662189Z"
    }
   },
   "outputs": [],
   "source": [
    "save_individual_stimulus = partial(save_stimulus, params=params)"
   ]
  },
  {
   "cell_type": "code",
   "execution_count": 11,
   "id": "8186a9df",
   "metadata": {
    "ExecuteTime": {
     "end_time": "2022-02-10T22:53:15.060741Z",
     "start_time": "2022-02-10T22:53:14.834683Z"
    }
   },
   "outputs": [],
   "source": [
    "df_cross = pd.merge(\n",
    "    pd.Series(np.arange(0, params[\"n_steps\"]), name=\"idx_spiky\"),\n",
    "    pd.Series(np.arange(0, params[\"n_steps\"]), name=\"idx_belly\"), \n",
    "    how=\"cross\"\n",
    ")\n",
    "idxs_spiky = df_cross[\"idx_spiky\"].to_list()\n",
    "idxs_belly = df_cross[\"idx_belly\"].to_list()"
   ]
  },
  {
   "cell_type": "code",
   "execution_count": 12,
   "id": "f8eddc79",
   "metadata": {
    "ExecuteTime": {
     "end_time": "2022-02-10T23:21:22.407261Z",
     "start_time": "2022-02-10T22:53:15.064957Z"
    }
   },
   "outputs": [],
   "source": [
    "_ = list(map(save_individual_stimulus, idxs_spiky, idxs_belly))"
   ]
  },
  {
   "cell_type": "code",
   "execution_count": null,
   "id": "ad821258",
   "metadata": {
    "ExecuteTime": {
     "end_time": "2022-02-09T21:40:10.300265Z",
     "start_time": "2022-02-09T21:40:09.914468Z"
    }
   },
   "outputs": [],
   "source": [
    "f, ax = plt.subplots(1, 1, figsize=(6, 10))\n",
    "radius = params[\"d1val\"][29]\n",
    "ax = stim_utils.draw_alien(radius, 90, ax, params)"
   ]
  },
  {
   "cell_type": "code",
   "execution_count": 8,
   "id": "5ab4e586",
   "metadata": {
    "ExecuteTime": {
     "end_time": "2022-03-07T07:44:31.850895Z",
     "start_time": "2022-03-07T07:44:31.785915Z"
    }
   },
   "outputs": [],
   "source": [
    "plt.style.use(\"dark_background\")"
   ]
  },
  {
   "cell_type": "code",
   "execution_count": 10,
   "id": "32b8d227",
   "metadata": {
    "ExecuteTime": {
     "end_time": "2022-03-07T07:44:42.460765Z",
     "start_time": "2022-03-07T07:44:42.349614Z"
    }
   },
   "outputs": [
    {
     "data": {
      "image/png": "[encoded data removed]",
      "text/plain": [
       "<Figure size 432x720 with 1 Axes>"
      ]
     },
     "metadata": {},
     "output_type": "display_data"
    }
   ],
   "source": [
    "f, ax = plt.subplots(1, 1, figsize = (6, 10))\n",
    "ax.plot([-1, 1], [0, 0], c=\"white\", linewidth=7)\n",
    "ax.plot([0, 0], [-.6, .6], c=\"white\", linewidth=7)\n",
    "plt.xlim([-2, 2])\n",
    "plt.ylim([-2, 2])\n",
    "plt.axis(\"off\")\n",
    "plt.savefig(\"../experiments/2022-02-category-learning/stimuli/fixcross.png\")"
   ]
  },
  {
   "cell_type": "code",
   "execution_count": 11,
   "id": "f09ac77b",
   "metadata": {
    "ExecuteTime": {
     "end_time": "2022-03-03T22:34:24.831875Z",
     "start_time": "2022-03-03T22:34:24.716588Z"
    }
   },
   "outputs": [
    {
     "data": {
      "image/png": "[encoded data removed]",
      "text/plain": [
       "<Figure size 432x720 with 1 Axes>"
      ]
     },
     "metadata": {
      "needs_background": "light"
     },
     "output_type": "display_data"
    }
   ],
   "source": [
    "f, ax = plt.subplots(1, 1, figsize = (6, 10))\n",
    "plt.axis(\"off\")\n",
    "plt.savefig(\"../experiments/2022-02-category-learning/stimuli/placeholder-white.png\")"
   ]
  },
  {
   "cell_type": "code",
   "execution_count": 12,
   "id": "57de5ee5",
   "metadata": {
    "ExecuteTime": {
     "end_time": "2022-03-03T22:34:31.030693Z",
     "start_time": "2022-03-03T22:34:30.902548Z"
    }
   },
   "outputs": [
    {
     "data": {
      "image/png": "[encoded data removed]",
      "text/plain": [
       "<Figure size 432x720 with 1 Axes>"
      ]
     },
     "metadata": {
      "needs_background": "light"
     },
     "output_type": "display_data"
    }
   ],
   "source": [
    "f, ax = plt.subplots(1, 1, figsize = (6, 10))\n",
    "plt.style.use(\"dark_background\")\n",
    "ax.plot([0], [0], c=\"black\")\n",
    "plt.axis(\"off\")\n",
    "plt.savefig(\"../experiments/2022-02-category-learning/stimuli/mask.png\")"
   ]
  },
  {
   "cell_type": "code",
   "execution_count": null,
   "id": "78628319",
   "metadata": {},
   "outputs": [],
   "source": []
  }
 ],
 "metadata": {
  "kernelspec": {
   "display_name": "Python 3 (ipykernel)",
   "language": "python",
   "name": "python3"
  },
  "language_info": {
   "codemirror_mode": {
    "name": "ipython",
    "version": 3
   },
   "file_extension": ".py",
   "mimetype": "text/x-python",
   "name": "python",
   "nbconvert_exporter": "python",
   "pygments_lexer": "ipython3",
   "version": "3.9.7"
  }
 },
 "nbformat": 4,
 "nbformat_minor": 5
}
