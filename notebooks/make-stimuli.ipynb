{
 "cells": [
  {
   "cell_type": "code",
   "execution_count": null,
   "id": "db700852",
   "metadata": {},
   "outputs": [],
   "source": [
    "import sys"
   ]
  },
  {
   "cell_type": "code",
   "execution_count": null,
   "id": "93c6201a",
   "metadata": {},
   "outputs": [],
   "source": [
    "import numpy as np\n",
    "import pandas as pd\n",
    "import matplotlib.pyplot as plt\n"
   ]
  },
  {
   "cell_type": "code",
   "execution_count": null,
   "id": "257efcf1",
   "metadata": {},
   "outputs": [],
   "source": [
    "sys.path.append(\"..\")"
   ]
  },
  {
   "cell_type": "code",
   "execution_count": null,
   "id": "9d4e6e8d",
   "metadata": {},
   "outputs": [],
   "source": [
    "import py_utils.stimuli as stim_utils"
   ]
  },
  {
   "cell_type": "code",
   "execution_count": null,
   "id": "ab89cb96",
   "metadata": {
    "scrolled": true
   },
   "outputs": [],
   "source": [
    "%load_ext autoreload"
   ]
  },
  {
   "cell_type": "code",
   "execution_count": null,
   "id": "c116795e",
   "metadata": {},
   "outputs": [],
   "source": [
    "%autoreload 2"
   ]
  },
  {
   "cell_type": "code",
   "execution_count": null,
   "id": "0362aa68",
   "metadata": {},
   "outputs": [],
   "source": [
    "n_steps = 14\n",
    "params = stim_utils.stimulus_parameters(n_steps)\n",
    "params[\"n_steps\"] = n_steps"
   ]
  },
  {
   "cell_type": "markdown",
   "id": "02ed26a8",
   "metadata": {},
   "source": [
    "# Full 2x2 Matrix of Stimuli"
   ]
  },
  {
   "cell_type": "code",
   "execution_count": null,
   "id": "c3e9c6a3",
   "metadata": {},
   "outputs": [],
   "source": [
    "i"
   ]
  },
  {
   "cell_type": "code",
   "execution_count": null,
   "id": "66ee33f4",
   "metadata": {
    "scrolled": true
   },
   "outputs": [],
   "source": [
    "#%% Test \n",
    "fig, axes = plt.subplots(params[\"n_steps\"], params[\"n_steps\"], figsize=(params[\"n_steps\"]*3,3*1.5*params[\"n_steps\"]))\n",
    "axes_flat = axes.flatten()\n",
    "counter = 0\n",
    "for i, radius in enumerate(params[\"d1val\"]):  # np.linspace(0, 1, n)\n",
    "    for j, fill_step in enumerate(params[\"fill_steps\"]):\n",
    "        axes_flat[counter] = stim_utils.draw_alien(radius, j, axes_flat[counter], params)\n",
    "        counter += 1\n",
    "plt.show()\n",
    "\n",
    "_ = plt.subplots_adjust(wspace=0, hspace=0)"
   ]
  },
  {
   "cell_type": "markdown",
   "id": "5e25c397",
   "metadata": {},
   "source": [
    "# Save Individual Stimuli"
   ]
  },
  {
   "cell_type": "code",
   "execution_count": null,
   "id": "967fb157",
   "metadata": {},
   "outputs": [],
   "source": [
    "from functools import partial"
   ]
  },
  {
   "cell_type": "code",
   "execution_count": null,
   "id": "8d23af6d",
   "metadata": {},
   "outputs": [],
   "source": [
    "def save_stimulus(idx_spiky, idx_belly, params):\n",
    "    path_folder = \"../experiments/2022-02-category-learning/stimuli/\"\n",
    "    nm_file = f\"\"\"stimulus[{idx_spiky},{idx_belly}]\"\"\"\n",
    "    f, ax = plt.subplots(1, 1, figsize=(6, 10))\n",
    "    radius = params[\"d1val\"][idx_spiky]\n",
    "    ax = stim_utils.draw_alien(radius, idx_belly, ax, params)\n",
    "    plt.savefig(path_folder + nm_file)\n",
    "    plt.close()"
   ]
  },
  {
   "cell_type": "code",
   "execution_count": null,
   "id": "75f0e388",
   "metadata": {},
   "outputs": [],
   "source": [
    "save_individual_stimulus = partial(save_stimulus, params=params)"
   ]
  },
  {
   "cell_type": "code",
   "execution_count": null,
   "id": "8186a9df",
   "metadata": {},
   "outputs": [],
   "source": [
    "df_cross = pd.merge(\n",
    "    pd.Series(np.arange(0, params[\"n_steps\"]), name=\"idx_spiky\"),\n",
    "    pd.Series(np.arange(0, params[\"n_steps\"]), name=\"idx_belly\"), \n",
    "    how=\"cross\"\n",
    ")\n",
    "idxs_spiky = df_cross[\"idx_spiky\"].to_list()\n",
    "idxs_belly = df_cross[\"idx_belly\"].to_list()"
   ]
  },
  {
   "cell_type": "code",
   "execution_count": null,
   "id": "f8eddc79",
   "metadata": {},
   "outputs": [],
   "source": [
    "_ = list(map(save_individual_stimulus, idxs_spiky, idxs_belly))"
   ]
  },
  {
   "cell_type": "code",
   "execution_count": null,
   "id": "c2881551",
   "metadata": {},
   "outputs": [],
   "source": []
  }
 ],
 "metadata": {
  "kernelspec": {
   "display_name": "Python 3 (ipykernel)",
   "language": "python",
   "name": "python3"
  },
  "language_info": {
   "codemirror_mode": {
    "name": "ipython",
    "version": 3
   },
   "file_extension": ".py",
   "mimetype": "text/x-python",
   "name": "python",
   "nbconvert_exporter": "python",
   "pygments_lexer": "ipython3",
   "version": "3.9.7"
  }
 },
 "nbformat": 4,
 "nbformat_minor": 5
}
