{
 "cells": [
  {
   "cell_type": "markdown",
   "id": "c61983ce",
   "metadata": {
    "toc": true
   },
   "source": [
    "<h1>Table of Contents<span class=\"tocSkip\"></span></h1>\n",
    "<div class=\"toc\"><ul class=\"toc-item\"><li><span><a href=\"#Sample-Training-Stimuli\" data-toc-modified-id=\"Sample-Training-Stimuli-1\"><span class=\"toc-item-num\">1&nbsp;&nbsp;</span>Sample Training Stimuli</a></span></li><li><span><a href=\"#Visualize-Conditions\" data-toc-modified-id=\"Visualize-Conditions-2\"><span class=\"toc-item-num\">2&nbsp;&nbsp;</span>Visualize Conditions</a></span></li><li><span><a href=\"#Run-Function-Learning-Task\" data-toc-modified-id=\"Run-Function-Learning-Task-3\"><span class=\"toc-item-num\">3&nbsp;&nbsp;</span>Run Function-Learning Task</a></span></li><li><span><a href=\"#Save-Simulated-Data\" data-toc-modified-id=\"Save-Simulated-Data-4\"><span class=\"toc-item-num\">4&nbsp;&nbsp;</span>Save Simulated Data</a></span></li><li><span><a href=\"#Plot-Movements-in-Space\" data-toc-modified-id=\"Plot-Movements-in-Space-5\"><span class=\"toc-item-num\">5&nbsp;&nbsp;</span>Plot Movements in Space</a></span></li><li><span><a href=\"#True-y-Value-vs.-Size-of-Change\" data-toc-modified-id=\"True-y-Value-vs.-Size-of-Change-6\"><span class=\"toc-item-num\">6&nbsp;&nbsp;</span>True y Value vs. Size of Change</a></span></li><li><span><a href=\"#Local-Change-vs.-Size-of-Change\" data-toc-modified-id=\"Local-Change-vs.-Size-of-Change-7\"><span class=\"toc-item-num\">7&nbsp;&nbsp;</span>Local Change vs. Size of Change</a></span></li><li><span><a href=\"#Prediction-Uncertainty-vs.-Size-of-Change\" data-toc-modified-id=\"Prediction-Uncertainty-vs.-Size-of-Change-8\"><span class=\"toc-item-num\">8&nbsp;&nbsp;</span>Prediction Uncertainty vs. Size of Change</a></span></li><li><span><a href=\"#Correlations-Between-Movements-in-Different-Conditions\" data-toc-modified-id=\"Correlations-Between-Movements-in-Different-Conditions-9\"><span class=\"toc-item-num\">9&nbsp;&nbsp;</span>Correlations Between Movements in Different Conditions</a></span></li><li><span><a href=\"#Plot-Changes-in-Uncertainty\" data-toc-modified-id=\"Plot-Changes-in-Uncertainty-10\"><span class=\"toc-item-num\">10&nbsp;&nbsp;</span>Plot Changes in Uncertainty</a></span></li></ul></div>"
   ]
  },
  {
   "cell_type": "code",
   "execution_count": null,
   "id": "2c892410",
   "metadata": {
    "ExecuteTime": {
     "end_time": "2022-01-03T20:30:55.007372Z",
     "start_time": "2022-01-03T20:30:50.172513Z"
    }
   },
   "outputs": [],
   "source": [
    "from functools import reduce, partial\n",
    "from itertools import repeat\n",
    "from datetime import date\n",
    "import sys\n",
    "import multiprocessing\n",
    "import pickle\n",
    "\n",
    "import numpy as np\n",
    "import pandas as pd\n",
    "import matplotlib as mpl\n",
    "import matplotlib.pyplot as plt\n",
    "import seaborn as sns\n",
    "\n",
    "from scipy.optimize import minimize\n",
    "\n",
    "from sklearn.gaussian_process import GaussianProcessRegressor\n",
    "from sklearn.gaussian_process.kernels import RBF\n",
    "from tqdm.notebook import tqdm\n",
    "from mpl_toolkits.axes_grid1.inset_locator import inset_axes\n",
    "\n",
    "sys.path.append(\"..\")"
   ]
  },
  {
   "cell_type": "code",
   "execution_count": null,
   "id": "b2c0097d",
   "metadata": {
    "ExecuteTime": {
     "end_time": "2022-01-03T20:30:55.311020Z",
     "start_time": "2022-01-03T20:30:55.009373Z"
    }
   },
   "outputs": [],
   "source": [
    "# home-grown modules\n",
    "import py_utils.utils as utils\n",
    "import py_utils.plotting as plot_utils"
   ]
  },
  {
   "cell_type": "code",
   "execution_count": null,
   "id": "a97694c9",
   "metadata": {
    "ExecuteTime": {
     "end_time": "2022-01-03T20:30:55.560759Z",
     "start_time": "2022-01-03T20:30:55.314900Z"
    }
   },
   "outputs": [],
   "source": [
    "%load_ext autoreload\n",
    "%autoreload 2"
   ]
  },
  {
   "cell_type": "code",
   "execution_count": null,
   "id": "19fa4636",
   "metadata": {
    "ExecuteTime": {
     "end_time": "2022-01-03T20:30:55.806733Z",
     "start_time": "2022-01-03T20:30:55.566971Z"
    }
   },
   "outputs": [],
   "source": [
    "plt.style.use(\"seaborn-whitegrid\")\n",
    "sns.set_style(\"whitegrid\")"
   ]
  },
  {
   "cell_type": "code",
   "execution_count": null,
   "id": "2fdd2f64",
   "metadata": {
    "ExecuteTime": {
     "end_time": "2022-01-03T20:30:56.033125Z",
     "start_time": "2022-01-03T20:30:55.810873Z"
    },
    "scrolled": false
   },
   "outputs": [],
   "source": [
    "plt.style.use(\"presentation.mplstyle\")"
   ]
  },
  {
   "cell_type": "code",
   "execution_count": null,
   "id": "20e301dc",
   "metadata": {
    "ExecuteTime": {
     "end_time": "2022-01-03T20:30:56.331941Z",
     "start_time": "2022-01-03T20:30:56.036975Z"
    }
   },
   "outputs": [],
   "source": [
    "dict_variables = dict({\n",
    "    \"condition\" : [\"smooth\", \"rough\"],\n",
    "    \"sampling_strategy\": [\"stimulus\", \"trial\"],\n",
    "    \"prior_sd\" : [.5],\n",
    "    \"sampling\" : [\"improvement\"], # \"metropolis-hastings\", \n",
    "    \"constrain_space\" : [False], # True, \n",
    "    \"space_edge_min\" : [0],\n",
    "    \"space_edge_max\" : [12],\n",
    "    \"n_features\" : [2],\n",
    "    \"n_training\" : [int(12**2/4)],\n",
    "    \"n_samples_block\" : [200],\n",
    "    \"beta_softmax\": [1, 10],\n",
    "    \"n_runs\" : [10]\n",
    "})"
   ]
  },
  {
   "cell_type": "code",
   "execution_count": null,
   "id": "63d5c354",
   "metadata": {
    "ExecuteTime": {
     "end_time": "2022-01-03T20:30:56.681542Z",
     "start_time": "2022-01-03T20:30:56.335146Z"
    }
   },
   "outputs": [],
   "source": [
    "df_info, l_info, l_titles = utils.simulation_conditions(dict_variables)"
   ]
  },
  {
   "cell_type": "code",
   "execution_count": null,
   "id": "34fb075f",
   "metadata": {
    "ExecuteTime": {
     "end_time": "2022-01-03T20:30:56.948230Z",
     "start_time": "2022-01-03T20:30:56.683537Z"
    }
   },
   "outputs": [],
   "source": [
    "df_info"
   ]
  },
  {
   "cell_type": "markdown",
   "id": "07bd00bb",
   "metadata": {},
   "source": [
    "# Sample Training Stimuli"
   ]
  },
  {
   "cell_type": "code",
   "execution_count": null,
   "id": "217777de",
   "metadata": {
    "ExecuteTime": {
     "end_time": "2022-01-03T20:31:03.131138Z",
     "start_time": "2022-01-03T20:30:56.950223Z"
    }
   },
   "outputs": [],
   "source": [
    "make_stimuli_partial = partial(utils.make_stimuli, map_to_reward=True)\n",
    "l_df_xy = list(map(make_stimuli_partial, l_info))"
   ]
  },
  {
   "cell_type": "markdown",
   "id": "5152f47d",
   "metadata": {},
   "source": [
    "# Visualize Conditions"
   ]
  },
  {
   "cell_type": "code",
   "execution_count": null,
   "id": "956b4c1d",
   "metadata": {
    "ExecuteTime": {
     "end_time": "2022-01-03T20:31:08.563962Z",
     "start_time": "2022-01-03T20:31:03.133175Z"
    }
   },
   "outputs": [],
   "source": [
    "plot_utils.plot_heatmaps(l_info, map_to_reward=True)"
   ]
  },
  {
   "cell_type": "code",
   "execution_count": null,
   "id": "c7008963",
   "metadata": {
    "ExecuteTime": {
     "end_time": "2022-01-03T20:31:11.186151Z",
     "start_time": "2022-01-03T20:31:08.565994Z"
    },
    "scrolled": false
   },
   "outputs": [],
   "source": [
    "idx0 = 0\n",
    "idx1 = 4\n",
    "float_formatter = \"{:.5f}\".format\n",
    "fig, axes = plt.subplots(nrows=2,ncols=2,figsize=(20, 16), sharex=False, sharey=\"col\",\n",
    "                  gridspec_kw={\"height_ratios\":[1, 1]})\n",
    "axes_flat = axes.flatten()\n",
    "l_df_xy[idx0], l_ivs, scaler = utils.scale_ivs(l_df_xy[idx0])\n",
    "l_df_xy[idx1], l_ivs, scaler = utils.scale_ivs(l_df_xy[idx1])\n",
    "df_train1, df_test1 = utils.split_train_test(l_info[idx0], l_df_xy[idx0])\n",
    "df_train2, df_test2 = utils.split_train_test(l_info[idx1], l_df_xy[idx1])\n",
    "# smooth\n",
    "df_test1 = plot_utils.uncertainty_on_test_data(\n",
    "    df_train1, df_test1, l_info[idx0], l_ivs\n",
    ")\n",
    "# rough\n",
    "df_test2 = plot_utils.uncertainty_on_test_data(\n",
    "    df_train2, df_test2, l_info[idx1], l_ivs\n",
    ")\n",
    "min_val = min(df_test1[\"y_pred_sd\"].min(), df_test2[\"y_pred_sd\"].min())\n",
    "max_val = max(df_test1[\"y_pred_sd\"].max(), df_test2[\"y_pred_sd\"].max())\n",
    "\n",
    "plot_utils.plot_uncertainty_on_test_data(df_test1, axes_flat[0:2], show_colorbar=False, min_val=min_val, max_val=max_val)\n",
    "plot_utils.plot_uncertainty_on_test_data(df_test2, axes_flat[2:4], show_colorbar=False, min_val=min_val, max_val=max_val)\n",
    "\n",
    "\n",
    "norm = plt.Normalize(\n",
    "    min(df_test1[\"y_pred_sd\"].min(), df_test2[\"y_pred_sd\"].min()), \n",
    "    max(df_test1[\"y_pred_sd\"].max(), df_test2[\"y_pred_sd\"].max())\n",
    ")\n",
    "sm = plt.cm.ScalarMappable(cmap=\"viridis\", norm=norm)\n",
    "sm.set_array([])\n",
    "axins = inset_axes(axes_flat[3],\n",
    "                    width=\"100%\",  \n",
    "                    height=\"5%\",\n",
    "                    loc='lower center',\n",
    "                    borderpad=-7\n",
    "                   )\n",
    "_ = fig.colorbar(sm, cax=axins, orientation=\"horizontal\")\n",
    "l_df_xy[idx0].drop([f\"\"\"{iv}_z\"\"\" for iv in l_ivs], axis=1, inplace=True)\n",
    "l_df_xy[idx1].drop([f\"\"\"{iv}_z\"\"\" for iv in l_ivs], axis=1, inplace=True)\n",
    "\n",
    "xt0 = [float_formatter(t) for t in axes_flat[0].get_xticks()]\n",
    "axes_flat[0].xaxis.set_ticks([float(xv) for xv in xt0])\n",
    "axes_flat[0].set_xticklabels(xt0, rotation=90)\n",
    "xt2 = [float_formatter(t) for t in axes_flat[2].get_xticks()]\n",
    "axes_flat[2].xaxis.set_ticks([float(xv) for xv in xt2])\n",
    "_ = axes_flat[2].set_xticklabels(xt2, rotation=90)\n",
    "\n",
    "plt.tight_layout()"
   ]
  },
  {
   "cell_type": "markdown",
   "id": "7e1a3654",
   "metadata": {},
   "source": [
    "# Run Function-Learning Task"
   ]
  },
  {
   "cell_type": "code",
   "execution_count": null,
   "id": "959eaf3f",
   "metadata": {
    "ExecuteTime": {
     "end_time": "2022-01-03T20:31:16.181482Z",
     "start_time": "2022-01-03T20:31:11.186151Z"
    },
    "scrolled": false
   },
   "outputs": [],
   "source": [
    "n_cpus = min(len(l_info), multiprocessing.cpu_count() - 2)\n",
    "p = multiprocessing.Pool(n_cpus)\n",
    "#f_partial = partial(utils.run_perception, l_df_xy=l_df_xy)\n",
    "# multiprocessing Pool map does not accept partial functions\n",
    "list_perception = []\n",
    "for x in tqdm(p.starmap(utils.run_perception_pairs, zip(l_info, l_df_xy))):\n",
    "    list_perception.append(x)"
   ]
  },
  {
   "cell_type": "code",
   "execution_count": null,
   "id": "a0ffb29e",
   "metadata": {
    "ExecuteTime": {
     "end_time": "2022-01-03T20:31:16.329613Z",
     "start_time": "2022-01-03T20:31:16.183634Z"
    }
   },
   "outputs": [],
   "source": [
    "list_df_new_xpos = list()\n",
    "list_df_reward = list()\n",
    "list_df_trials = list()\n",
    "list_df_new_xpos = [list_perception[idx][0].reset_index() for idx in range(len(list_perception))]\n",
    "list_df_reward = [list_perception[idx][1] for idx in range(len(list_perception))]\n",
    "list_df_trials = [list_perception[idx][2] for idx in range(len(list_perception))]"
   ]
  },
  {
   "cell_type": "markdown",
   "id": "20872b1f",
   "metadata": {},
   "source": [
    "# Save Simulated Data"
   ]
  },
  {
   "cell_type": "code",
   "execution_count": null,
   "id": "91349ee8",
   "metadata": {
    "ExecuteTime": {
     "end_time": "2022-01-03T20:31:21.979448Z",
     "start_time": "2022-01-03T20:31:21.779584Z"
    }
   },
   "outputs": [],
   "source": [
    "str_today = str(date.today())"
   ]
  },
  {
   "cell_type": "markdown",
   "id": "51c28830",
   "metadata": {
    "ExecuteTime": {
     "end_time": "2022-01-03T15:23:44.241185Z",
     "start_time": "2022-01-03T15:23:44.152805Z"
    }
   },
   "source": [
    "with open(f\"\"\"../data/{str_today}-reward-learning-dont-refit-gp.pickle\"\"\", \"wb\") as f:\n",
    "    pickle.dump(list_perception, f)"
   ]
  },
  {
   "cell_type": "markdown",
   "id": "1b07c0bf",
   "metadata": {
    "ExecuteTime": {
     "end_time": "2022-01-03T15:23:53.351468Z",
     "start_time": "2022-01-03T15:23:53.253010Z"
    }
   },
   "source": [
    "with open(f\"\"\"../data/{str_today}-reward-learning-dont-refit-gp.pickle\"\"\", \"rb\") as f:\n",
    "    list_perception = pickle.load(f)"
   ]
  },
  {
   "cell_type": "markdown",
   "id": "0001c665",
   "metadata": {},
   "source": [
    "- think about leaving in prior points when plotting movements (prior & likelihood...) as I did that in the category learning part"
   ]
  },
  {
   "cell_type": "markdown",
   "id": "f5e9ff29",
   "metadata": {},
   "source": [
    "# Plot Movements in Space"
   ]
  },
  {
   "cell_type": "code",
   "execution_count": null,
   "id": "e8216401",
   "metadata": {
    "ExecuteTime": {
     "end_time": "2022-01-03T20:31:25.411688Z",
     "start_time": "2022-01-03T20:31:23.354847Z"
    }
   },
   "outputs": [],
   "source": [
    "f_partial = partial(plot_utils.plot_moves_one_condition, list_dfs_new=list_df_new_xpos, df_info=df_info)\n",
    "l_idxs = df_info.index[0:4].to_list()\n",
    "f, axes = plt.subplots(1, 4, figsize=(30, 8))\n",
    "_ = list(map(f_partial, l_idxs, l_titles[0:4], axes.flatten()))\n",
    "plt.tight_layout()\n",
    "# plt.savefig(f\"\"\"../figures/{str_today}-func-learning-smooth-movements-refit.png\"\"\"as)"
   ]
  },
  {
   "cell_type": "code",
   "execution_count": null,
   "id": "1328409d",
   "metadata": {
    "ExecuteTime": {
     "end_time": "2022-01-03T20:31:29.654877Z",
     "start_time": "2022-01-03T20:31:27.546581Z"
    }
   },
   "outputs": [],
   "source": [
    "f_partial = partial(plot_utils.plot_moves_one_condition, list_dfs_new=list_df_new_xpos, df_info=df_info)\n",
    "l_idxs = df_info.index[4:8].to_list()\n",
    "f, axes = plt.subplots(1, 4, figsize=(30, 8))\n",
    "_ = list(map(f_partial, l_idxs, l_titles[4:8], axes.flatten()))\n",
    "plt.tight_layout()\n",
    "# plt.savefig(f\"\"\"../figures/{str_today}-func-learning-rough-movements-refit.png\"\"\")"
   ]
  },
  {
   "cell_type": "markdown",
   "id": "c118cf39",
   "metadata": {},
   "source": [
    "# True y Value vs. Size of Change"
   ]
  },
  {
   "cell_type": "code",
   "execution_count": null,
   "id": "6253b4eb",
   "metadata": {
    "ExecuteTime": {
     "end_time": "2022-01-03T20:32:02.471371Z",
     "start_time": "2022-01-03T20:31:44.092536Z"
    }
   },
   "outputs": [],
   "source": [
    "list_df_new_xpos = list(map(utils.add_max_gradient, tqdm(list_df_new_xpos)))"
   ]
  },
  {
   "cell_type": "code",
   "execution_count": null,
   "id": "a34f046a",
   "metadata": {
    "ExecuteTime": {
     "end_time": "2022-01-03T20:32:08.942385Z",
     "start_time": "2022-01-03T20:32:02.475753Z"
    },
    "scrolled": false
   },
   "outputs": [],
   "source": [
    "fig, axes = plt.subplots(2, 4, figsize=(25, 12.5))\n",
    "axes_flat = axes.flatten()\n",
    "_ = list(map(plot_utils.regplot_y, list_df_new_xpos, l_titles, axes_flat))\n",
    "plt.tight_layout()"
   ]
  },
  {
   "cell_type": "markdown",
   "id": "e73206af",
   "metadata": {},
   "source": [
    "# Local Change vs. Size of Change"
   ]
  },
  {
   "cell_type": "code",
   "execution_count": null,
   "id": "b36ea453",
   "metadata": {
    "ExecuteTime": {
     "end_time": "2022-01-03T20:32:18.174616Z",
     "start_time": "2022-01-03T20:32:11.835232Z"
    }
   },
   "outputs": [],
   "source": [
    "fig, axes = plt.subplots(2, 4, figsize=(25, 12.5))\n",
    "axes_flat = axes.flatten()\n",
    "_ = list(map(plot_utils.regplot_max_gradient, list_df_new_xpos, l_titles, axes_flat))\n",
    "plt.tight_layout()"
   ]
  },
  {
   "cell_type": "markdown",
   "id": "df8a418b",
   "metadata": {},
   "source": [
    "# Prediction Uncertainty vs. Size of Change"
   ]
  },
  {
   "cell_type": "code",
   "execution_count": null,
   "id": "160ab859",
   "metadata": {
    "ExecuteTime": {
     "end_time": "2022-01-03T20:32:25.522781Z",
     "start_time": "2022-01-03T20:32:22.082347Z"
    },
    "scrolled": false
   },
   "outputs": [],
   "source": [
    "fig, axes = plt.subplots(2, 4, figsize=(25, 12.5))\n",
    "axes_flat = axes.flatten()\n",
    "_ = list(map(plot_utils.regplot_start_uncertainty, list_df_new_xpos, l_titles, axes_flat))\n",
    "plt.tight_layout()\n",
    "str_note = \"Note. y axes differ between panels\"\n",
    "_ = plt.figtext(0.99, -0.02, str_note, horizontalalignment='right', size=25)"
   ]
  },
  {
   "cell_type": "markdown",
   "id": "75d84be7",
   "metadata": {},
   "source": [
    "# Correlations Between Movements in Different Conditions"
   ]
  },
  {
   "cell_type": "code",
   "execution_count": null,
   "id": "d8fe06c6",
   "metadata": {
    "ExecuteTime": {
     "end_time": "2022-01-03T20:32:45.382501Z",
     "start_time": "2022-01-03T20:32:45.011282Z"
    }
   },
   "outputs": [],
   "source": [
    "l_df_movements = list(map(utils.add_angle_of_movements, list_df_new_xpos))"
   ]
  },
  {
   "cell_type": "code",
   "execution_count": null,
   "id": "faf229bb",
   "metadata": {
    "ExecuteTime": {
     "end_time": "2022-01-03T20:32:45.603576Z",
     "start_time": "2022-01-03T20:32:45.382501Z"
    }
   },
   "outputs": [],
   "source": [
    "def correlation_between_movement_angles(idx1: int, idx2:int, l_df_movements: list) -> float:\n",
    "    df_tmp = pd.merge(l_df_movements[idx1], l_df_movements[idx2], how=\"inner\", left_index=True, right_index=True)\n",
    "    return np.corrcoef(df_tmp[\"angle_x\"], df_tmp[\"angle_y\"])[0, 1]"
   ]
  },
  {
   "cell_type": "code",
   "execution_count": null,
   "id": "e808e646",
   "metadata": {
    "ExecuteTime": {
     "end_time": "2022-01-03T20:32:46.098867Z",
     "start_time": "2022-01-03T20:32:45.647682Z"
    }
   },
   "outputs": [],
   "source": [
    "df1 = pd.Series(range(len(l_df_movements)), name=\"Condition 1\")\n",
    "df2 = pd.Series(range(len(l_df_movements)), name=\"Condition 2\")\n",
    "df_cross = pd.merge(df1, df2, how=\"cross\")\n",
    "f_partial = partial(correlation_between_movement_angles, l_df_movements = l_df_movements)\n",
    "df_cross[\"correlation\"] = list(map(f_partial, df_cross[\"Condition 1\"].to_list(), df_cross[\"Condition 2\"].to_list()))"
   ]
  },
  {
   "cell_type": "code",
   "execution_count": null,
   "id": "bf6d0976",
   "metadata": {
    "ExecuteTime": {
     "end_time": "2022-01-03T20:32:46.575514Z",
     "start_time": "2022-01-03T20:32:46.378609Z"
    }
   },
   "outputs": [],
   "source": [
    "filt_info = (df_info[\"constrain_space\"] == False)#(df_info[\"prior_sd\"] == 1)# & \n",
    "idxs_required = df_info.loc[filt_info].index.to_list()#\n",
    "filt = (df_cross[\"Condition 1\"].isin(idxs_required)) & (df_cross[\"Condition 2\"].isin(idxs_required))\n",
    "df_cross = df_cross.loc[filt, ].copy()"
   ]
  },
  {
   "cell_type": "code",
   "execution_count": null,
   "id": "d2730235",
   "metadata": {
    "ExecuteTime": {
     "end_time": "2022-01-03T20:32:47.056121Z",
     "start_time": "2022-01-03T20:32:46.833095Z"
    }
   },
   "outputs": [],
   "source": [
    "df_cross[\"corr_above_0\"] = df_cross[\"correlation\"] > 0\n",
    "prop_above_0 = (\n",
    "    df_cross.query(\"`Condition 1` != `Condition 2`\")[\"corr_above_0\"].sum() / \n",
    "    df_cross.query(\"`Condition 1` != `Condition 2`\").shape[0]\n",
    ").round(2)\n",
    "print(\"Proportion of Correlations > 0 between Movement Directions in Simulation Conditions: \", prop_above_0)"
   ]
  },
  {
   "cell_type": "code",
   "execution_count": null,
   "id": "198e616c",
   "metadata": {
    "ExecuteTime": {
     "end_time": "2022-01-03T20:32:50.025198Z",
     "start_time": "2022-01-03T20:32:48.072648Z"
    }
   },
   "outputs": [],
   "source": [
    "f, ax = plt.subplots(1, 1, figsize=(10, 8))\n",
    "sns.heatmap(\n",
    "    df_cross.pivot(index=\"Condition 1\", columns=\"Condition 2\", values=\"correlation\").round(2), \n",
    "    annot=True, annot_kws={\"size\":15}, linewidths=1, cmap=\"vlag\", vmin = -1, vmax = 1, ax=ax\n",
    ")\n",
    "_ = ax.set_title(\"Pairwise Correlations Between Movement Directions in Simulation Conditions\")\n",
    "plt.tight_layout()\n",
    "# plt.savefig(f\"\"\"../figures/{str_today}-func-learning-pairwise-correlations-constrained-refit.png\"\"\")"
   ]
  },
  {
   "cell_type": "markdown",
   "id": "8390d6e0",
   "metadata": {},
   "source": [
    "# Plot Changes in Uncertainty"
   ]
  },
  {
   "cell_type": "code",
   "execution_count": null,
   "id": "3af0648c",
   "metadata": {
    "ExecuteTime": {
     "end_time": "2022-01-03T20:32:56.988757Z",
     "start_time": "2022-01-03T20:32:52.778730Z"
    },
    "scrolled": false
   },
   "outputs": [],
   "source": [
    "stim_id = 133 # but then 132 shows opposite pattern\n",
    "l_idxs = [2, 6, 10, 14]\n",
    "#l_idxs = [0, 4, 8, 12]\n",
    "#l_idxs = [i + 1 for i in l_idxs]\n",
    "l_idxs = range(0, 8)\n",
    "n_plots = len(l_idxs)\n",
    "n_cols = 4\n",
    "n_rows = int(np.ceil(n_plots / n_cols))\n",
    "f, axes = plt.subplots(n_cols, n_rows, figsize=(n_cols*4, n_rows*7), sharex=\"col\", sharey=\"col\")\n",
    "plot_utils.plot_gp_deviations(axes, l_idxs, list_df_new_xpos, l_titles) # , stim_id\n",
    "plt.suptitle(\"Model Deviation from True Points after Testing Period\\n\", size=20)\n",
    "plt.tight_layout()"
   ]
  },
  {
   "cell_type": "code",
   "execution_count": null,
   "id": "f341c4ab",
   "metadata": {
    "ExecuteTime": {
     "end_time": "2022-01-03T20:36:01.628357Z",
     "start_time": "2022-01-03T20:35:58.663159Z"
    }
   },
   "outputs": [],
   "source": [
    "fig, axes = plt.subplots(2, 4, figsize=(25, 9), sharex=True, sharey=True)\n",
    "f_partial = partial(plot_utils.plot_proportion_accepted_samples, n_runs=l_info[0][\"n_runs\"])\n",
    "list(map(f_partial, list_df_new_xpos, l_titles, axes.flatten()))\n",
    "_ = fig.suptitle(\"Proportion of Accepeted Samples Over Course of Function-Learning Task\\n\")\n",
    "plt.tight_layout()"
   ]
  },
  {
   "cell_type": "code",
   "execution_count": null,
   "id": "169496fb",
   "metadata": {
    "ExecuteTime": {
     "end_time": "2022-01-03T20:33:38.008792Z",
     "start_time": "2022-01-03T20:33:37.768729Z"
    }
   },
   "outputs": [],
   "source": [
    "for i in list_df_trials:\n",
    "    i[\"r_sq\"] = (i[\"y\"] - i[\"y_pred_mn\"])**2"
   ]
  },
  {
   "cell_type": "code",
   "execution_count": null,
   "id": "f3ca1dda",
   "metadata": {
    "ExecuteTime": {
     "end_time": "2022-01-03T20:33:41.728119Z",
     "start_time": "2022-01-03T20:33:38.013430Z"
    },
    "scrolled": false
   },
   "outputs": [],
   "source": [
    "fig, axes = plt.subplots(2, 4, figsize=(25, 18), sharex=True, sharey=True)\n",
    "plot_uncertainty_over_test_partial = partial(plot_utils.plot_var_over_bintime, var=\"r_sq\")\n",
    "list(map(plot_uncertainty_over_test_partial, list_df_trials, l_titles, axes.flatten()))\n",
    "_ = fig.suptitle(\"R Squared Against Test Trial\\n\")\n",
    "plt.tight_layout()\n",
    "str_note = \"Note. y axes differ between panels\"\n",
    "# _ = plt.figtext(0.99, -0.02, str_note, horizontalalignment='right', size=25)"
   ]
  },
  {
   "cell_type": "code",
   "execution_count": null,
   "id": "2331e0e2",
   "metadata": {
    "ExecuteTime": {
     "end_time": "2022-01-03T20:33:45.221452Z",
     "start_time": "2022-01-03T20:33:41.732385Z"
    },
    "scrolled": false
   },
   "outputs": [],
   "source": [
    "fig, axes = plt.subplots(2, 4, figsize=(25, 18), sharex=True, sharey=True)\n",
    "plot_uncertainty_over_test_partial = partial(plot_utils.plot_sum_over_bintime, var=\"reward\")\n",
    "list(map(plot_uncertainty_over_test_partial, list_df_reward, l_titles, axes.flatten()))\n",
    "_ = fig.suptitle(\"Reward Against Test Trial\\n\")\n",
    "plt.tight_layout()\n",
    "str_note = \"Note. y axes differ between panels\"\n",
    "# _ = plt.figtext(0.99, -0.02, str_note, horizontalalignment='right', size=25)"
   ]
  },
  {
   "cell_type": "markdown",
   "id": "257ce328",
   "metadata": {},
   "source": [
    "*TODOs*\n",
    "- plot movements over original y function values aka heatmap\n"
   ]
  },
  {
   "cell_type": "code",
   "execution_count": null,
   "id": "3e841c11",
   "metadata": {},
   "outputs": [],
   "source": []
  }
 ],
 "metadata": {
  "kernelspec": {
   "display_name": "Python 3 (ipykernel)",
   "language": "python",
   "name": "python3"
  },
  "language_info": {
   "codemirror_mode": {
    "name": "ipython",
    "version": 3
   },
   "file_extension": ".py",
   "mimetype": "text/x-python",
   "name": "python",
   "nbconvert_exporter": "python",
   "pygments_lexer": "ipython3",
   "version": "3.9.7"
  },
  "toc": {
   "base_numbering": 1,
   "nav_menu": {},
   "number_sections": true,
   "sideBar": true,
   "skip_h1_title": false,
   "title_cell": "Table of Contents",
   "title_sidebar": "Contents",
   "toc_cell": true,
   "toc_position": {},
   "toc_section_display": true,
   "toc_window_display": false
  }
 },
 "nbformat": 4,
 "nbformat_minor": 5
}
